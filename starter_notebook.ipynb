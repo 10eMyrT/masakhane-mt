{
  "nbformat": 4,
  "nbformat_minor": 0,
  "metadata": {
    "accelerator": "GPU",
    "colab": {
      "name": "starter_notebook.ipynb",
      "provenance": [],
      "collapsed_sections": [],
      "toc_visible": true
    },
    "kernelspec": {
      "display_name": "Python 3",
      "language": "python",
      "name": "python3"
    },
    "language_info": {
      "codemirror_mode": {
        "name": "ipython",
        "version": 3
      },
      "file_extension": ".py",
      "mimetype": "text/x-python",
      "name": "python",
      "nbconvert_exporter": "python",
      "pygments_lexer": "ipython3",
      "version": "3.5.6"
    }
  },
  "cells": [
    {
      "cell_type": "markdown",
      "metadata": {
        "colab_type": "text",
        "id": "Igc5itf-xMGj"
      },
      "source": [
        "# Masakhane - Machine Translation for African Languages (Using JoeyNMT)"
      ]
    },
    {
      "cell_type": "markdown",
      "metadata": {
        "colab_type": "text",
        "id": "x4fXCKCf36IK"
      },
      "source": [
        "## Note before beginning:\n",
        "### - The idea is that you should be able to make minimal changes to this in order to get SOME result for your own translation corpus. \n",
        "\n",
        "### - The tl;dr: Go to the **\"TODO\"** comments which will tell you what to update to get up and running\n",
        "\n",
        "### - If you actually want to have a clue what you're doing, read the text and peek at the links\n",
        "\n",
        "### - With 100 epochs, it should take around 7 hours to run in Google Colab\n",
        "\n",
        "### - Once you've gotten a result for your language, please attach and email your notebook that generated it to masakhanetranslation@gmail.com\n",
        "\n",
        "### - If you care enough and get a chance, doing a brief background on your language would be amazing. See examples in  [(Martinus, 2019)](https://arxiv.org/abs/1906.05685)"
      ]
    },
    {
      "cell_type": "markdown",
      "metadata": {
        "colab_type": "text",
        "id": "l929HimrxS0a"
      },
      "source": [
        "## Retrieve your data & make a parallel corpus\n",
        "\n",
        "If you are wanting to use the JW300 data referenced on the Masakhane website or in our GitHub repo, you can use `opus-tools` to convert the data into a convenient format. `opus_read` from that package provides a convenient tool for reading the native aligned XML files and to convert them to TMX format. The tool can also be used to fetch relevant files from OPUS on the fly and to filter the data as necessary. [Read the documentation](https://pypi.org/project/opustools-pkg/) for more details.\n",
        "\n",
        "Once you have your corpus files in TMX format (an xml structure which will include the sentences in your target language and your source language in a single file), we recommend reading them into a pandas dataframe. Thankfully, Jade wrote a silly `tmx2dataframe` package which converts your tmx file to a pandas dataframe. "
      ]
    },
    {
      "cell_type": "code",
      "metadata": {
        "colab_type": "code",
        "id": "oGRmDELn7Az0",
        "colab": {
          "base_uri": "https://localhost:8080/",
          "height": 122
        },
        "outputId": "334f19fd-6839-47ce-b9c2-ee87ba5b6b8f"
      },
      "source": [
        "from google.colab import drive\n",
        "drive.mount('/content/drive')"
      ],
      "execution_count": 1,
      "outputs": [
        {
          "output_type": "stream",
          "text": [
            "Go to this URL in a browser: https://accounts.google.com/o/oauth2/auth?client_id=947318989803-6bn6qk8qdgf4n4g3pfee6491hc0brc4i.apps.googleusercontent.com&redirect_uri=urn%3aietf%3awg%3aoauth%3a2.0%3aoob&response_type=code&scope=email%20https%3a%2f%2fwww.googleapis.com%2fauth%2fdocs.test%20https%3a%2f%2fwww.googleapis.com%2fauth%2fdrive%20https%3a%2f%2fwww.googleapis.com%2fauth%2fdrive.photos.readonly%20https%3a%2f%2fwww.googleapis.com%2fauth%2fpeopleapi.readonly\n",
            "\n",
            "Enter your authorization code:\n",
            "··········\n",
            "Mounted at /content/drive\n"
          ],
          "name": "stdout"
        }
      ]
    },
    {
      "cell_type": "code",
      "metadata": {
        "colab_type": "code",
        "id": "Cn3tgQLzUxwn",
        "colab": {}
      },
      "source": [
        "# TODO: Set your source and target languages. Keep in mind, these traditionally use language codes as found here:\n",
        "# These will also become the suffix's of all vocab and corpus files used throughout\n",
        "import os\n",
        "source_language = \"en\"\n",
        "target_language = \"xh\" \n",
        "lc = False  # If True, lowercase the data.\n",
        "seed = 42  # Random seed for shuffling.\n",
        "tag = \"baseline\" # Give a unique name to your folder - this is to ensure you don't rewrite any models you've already submitted\n",
        "\n",
        "os.environ[\"src\"] = source_language # Sets them in bash as well, since we often use bash scripts\n",
        "os.environ[\"tgt\"] = target_language\n",
        "os.environ[\"tag\"] = tag\n",
        "\n",
        "# This will save it to a folder in our gdrive instead! \n",
        "!mkdir -p \"/content/drive/My Drive/masakhane/$src-$tgt-$tag\"\n",
        "g_drive_path = \"/content/drive/My Drive/masakhane/%s-%s-%s\" % (source_language, target_language, tag)\n",
        "os.environ[\"gdrive_path\"] = g_drive_path\n",
        "models_path = '%s/models/%s%s_transformer'% (g_drive_path, source_language, target_language)\n",
        "# model temporary directory for training\n",
        "model_temp_dir = \"/content/drive/My Drive/masakhane/model-temp\""
      ],
      "execution_count": 0,
      "outputs": []
    },
    {
      "cell_type": "code",
      "metadata": {
        "colab_type": "code",
        "id": "kBSgJHEw7Nvx",
        "colab": {
          "base_uri": "https://localhost:8080/",
          "height": 34
        },
        "outputId": "5bd42959-2ef0-4f81-8e90-9e3ae81ad6e6"
      },
      "source": [
        "!echo $gdrive_path"
      ],
      "execution_count": 3,
      "outputs": [
        {
          "output_type": "stream",
          "text": [
            "/content/drive/My Drive/masakhane/en-xh-baseline\n"
          ],
          "name": "stdout"
        }
      ]
    },
    {
      "cell_type": "code",
      "metadata": {
        "colab_type": "code",
        "id": "gA75Fs9ys8Y9",
        "colab": {
          "base_uri": "https://localhost:8080/",
          "height": 102
        },
        "outputId": "e0f08e8d-1662-4da5-b24c-8cc6f6bf79ec"
      },
      "source": [
        "#TODO: Need not run for for retrain\n",
        "# Install opus-tools\n",
        "! pip install opustools-pkg "
      ],
      "execution_count": 4,
      "outputs": [
        {
          "output_type": "stream",
          "text": [
            "Collecting opustools-pkg\n",
            "\u001b[?25l  Downloading https://files.pythonhosted.org/packages/6c/9f/e829a0cceccc603450cd18e1ff80807b6237a88d9a8df2c0bb320796e900/opustools_pkg-0.0.52-py3-none-any.whl (80kB)\n",
            "\r\u001b[K     |████                            | 10kB 25.7MB/s eta 0:00:01\r\u001b[K     |████████                        | 20kB 33.7MB/s eta 0:00:01\r\u001b[K     |████████████▏                   | 30kB 38.2MB/s eta 0:00:01\r\u001b[K     |████████████████▏               | 40kB 38.9MB/s eta 0:00:01\r\u001b[K     |████████████████████▎           | 51kB 40.7MB/s eta 0:00:01\r\u001b[K     |████████████████████████▎       | 61kB 43.3MB/s eta 0:00:01\r\u001b[K     |████████████████████████████▎   | 71kB 44.3MB/s eta 0:00:01\r\u001b[K     |████████████████████████████████| 81kB 11.1MB/s \n",
            "\u001b[?25hInstalling collected packages: opustools-pkg\n",
            "Successfully installed opustools-pkg-0.0.52\n"
          ],
          "name": "stdout"
        }
      ]
    },
    {
      "cell_type": "code",
      "metadata": {
        "colab_type": "code",
        "id": "xq-tDZVks7ZD",
        "colab": {
          "base_uri": "https://localhost:8080/",
          "height": 204
        },
        "outputId": "af093b69-c9f9-4041-b17e-a999ae9d40da"
      },
      "source": [
        "#TODO: Need not run for for retrain\n",
        "# Downloading our corpus\n",
        "! opus_read -d JW300 -s $src -t $tgt -wm moses -w jw300.$src jw300.$tgt -q\n",
        "\n",
        "# extract the corpus file\n",
        "! gunzip JW300_latest_xml_$src-$tgt.xml.gz"
      ],
      "execution_count": 5,
      "outputs": [
        {
          "output_type": "stream",
          "text": [
            "\n",
            "Alignment file /proj/nlpl/data/OPUS/JW300/latest/xml/en-xh.xml.gz not found. The following files are available for downloading:\n",
            "\n",
            "   7 MB https://object.pouta.csc.fi/OPUS-JW300/v1/xml/en-xh.xml.gz\n",
            " 263 MB https://object.pouta.csc.fi/OPUS-JW300/v1/xml/en.zip\n",
            "  78 MB https://object.pouta.csc.fi/OPUS-JW300/v1/xml/xh.zip\n",
            "\n",
            " 348 MB Total size\n",
            "./JW300_latest_xml_en-xh.xml.gz ... 100% of 7 MB\n",
            "./JW300_latest_xml_en.zip ... 100% of 263 MB\n",
            "./JW300_latest_xml_xh.zip ... 100% of 78 MB\n"
          ],
          "name": "stdout"
        }
      ]
    },
    {
      "cell_type": "code",
      "metadata": {
        "id": "n48GDRnP8y2G",
        "colab_type": "code",
        "colab": {
          "base_uri": "https://localhost:8080/",
          "height": 578
        },
        "outputId": "ac518c91-f4b8-44d9-da4a-fa879d29a514"
      },
      "source": [
        "#TODO: Need not run for for retrain\n",
        "# Download the global test set.\n",
        "! wget https://raw.githubusercontent.com/juliakreutzer/masakhane/master/jw300_utils/test/test.en-any.en\n",
        "  \n",
        "# And the specific test set for this language pair.\n",
        "os.environ[\"trg\"] = target_language \n",
        "os.environ[\"src\"] = source_language \n",
        "\n",
        "! wget https://raw.githubusercontent.com/juliakreutzer/masakhane/master/jw300_utils/test/test.en-$trg.en \n",
        "! mv test.en-$trg.en test.en\n",
        "! wget https://raw.githubusercontent.com/juliakreutzer/masakhane/master/jw300_utils/test/test.en-$trg.$trg \n",
        "! mv test.en-$trg.$trg test.$trg"
      ],
      "execution_count": 6,
      "outputs": [
        {
          "output_type": "stream",
          "text": [
            "--2020-01-31 11:19:59--  https://raw.githubusercontent.com/juliakreutzer/masakhane/master/jw300_utils/test/test.en-any.en\n",
            "Resolving raw.githubusercontent.com (raw.githubusercontent.com)... 151.101.0.133, 151.101.64.133, 151.101.128.133, ...\n",
            "Connecting to raw.githubusercontent.com (raw.githubusercontent.com)|151.101.0.133|:443... connected.\n",
            "HTTP request sent, awaiting response... 200 OK\n",
            "Length: 277791 (271K) [text/plain]\n",
            "Saving to: ‘test.en-any.en’\n",
            "\n",
            "\rtest.en-any.en        0%[                    ]       0  --.-KB/s               \rtest.en-any.en      100%[===================>] 271.28K  --.-KB/s    in 0.01s   \n",
            "\n",
            "2020-01-31 11:19:59 (23.4 MB/s) - ‘test.en-any.en’ saved [277791/277791]\n",
            "\n",
            "--2020-01-31 11:20:04--  https://raw.githubusercontent.com/juliakreutzer/masakhane/master/jw300_utils/test/test.en-xh.en\n",
            "Resolving raw.githubusercontent.com (raw.githubusercontent.com)... 151.101.0.133, 151.101.64.133, 151.101.128.133, ...\n",
            "Connecting to raw.githubusercontent.com (raw.githubusercontent.com)|151.101.0.133|:443... connected.\n",
            "HTTP request sent, awaiting response... 200 OK\n",
            "Length: 206162 (201K) [text/plain]\n",
            "Saving to: ‘test.en-xh.en’\n",
            "\n",
            "test.en-xh.en       100%[===================>] 201.33K  --.-KB/s    in 0.007s  \n",
            "\n",
            "2020-01-31 11:20:04 (29.4 MB/s) - ‘test.en-xh.en’ saved [206162/206162]\n",
            "\n",
            "--2020-01-31 11:20:12--  https://raw.githubusercontent.com/juliakreutzer/masakhane/master/jw300_utils/test/test.en-xh.xh\n",
            "Resolving raw.githubusercontent.com (raw.githubusercontent.com)... 151.101.0.133, 151.101.64.133, 151.101.128.133, ...\n",
            "Connecting to raw.githubusercontent.com (raw.githubusercontent.com)|151.101.0.133|:443... connected.\n",
            "HTTP request sent, awaiting response... 200 OK\n",
            "Length: 211374 (206K) [text/plain]\n",
            "Saving to: ‘test.en-xh.xh’\n",
            "\n",
            "test.en-xh.xh       100%[===================>] 206.42K  --.-KB/s    in 0.004s  \n",
            "\n",
            "2020-01-31 11:20:12 (55.4 MB/s) - ‘test.en-xh.xh’ saved [211374/211374]\n",
            "\n"
          ],
          "name": "stdout"
        }
      ]
    },
    {
      "cell_type": "code",
      "metadata": {
        "id": "NqDG-CI28y2L",
        "colab_type": "code",
        "colab": {
          "base_uri": "https://localhost:8080/",
          "height": 34
        },
        "outputId": "ac7f26d3-d8ae-4532-cd4c-d52b82d8ae2f"
      },
      "source": [
        "#TODO: Need not run for for retrain\n",
        "# Read the test data to filter from train and dev splits.\n",
        "# Store english portion in set for quick filtering checks.\n",
        "en_test_sents = set()\n",
        "filter_test_sents = \"test.en-any.en\"\n",
        "j = 0\n",
        "with open(filter_test_sents) as f:\n",
        "  for line in f:\n",
        "    en_test_sents.add(line.strip())\n",
        "    j += 1\n",
        "print('Loaded {} global test sentences to filter from the training/dev data.'.format(j))"
      ],
      "execution_count": 7,
      "outputs": [
        {
          "output_type": "stream",
          "text": [
            "Loaded 3571 global test sentences to filter from the training/dev data.\n"
          ],
          "name": "stdout"
        }
      ]
    },
    {
      "cell_type": "code",
      "metadata": {
        "colab_type": "code",
        "id": "3CNdwLBCfSIl",
        "colab": {
          "base_uri": "https://localhost:8080/",
          "height": 159
        },
        "outputId": "87da24e1-3f3b-48f9-fc87-b680e0ca1338"
      },
      "source": [
        "#TODO: Need not run for for retrain\n",
        "import pandas as pd\n",
        "\n",
        "# TMX file to dataframe\n",
        "source_file = 'jw300.' + source_language\n",
        "target_file = 'jw300.' + target_language\n",
        "\n",
        "source = []\n",
        "target = []\n",
        "skip_lines = []  # Collect the line numbers of the source portion to skip the same lines for the target portion.\n",
        "with open(source_file) as f:\n",
        "    for i, line in enumerate(f):\n",
        "        # Skip sentences that are contained in the test set.\n",
        "        if line.strip() not in en_test_sents:\n",
        "            source.append(line.strip())\n",
        "        else:\n",
        "            skip_lines.append(i)             \n",
        "with open(target_file) as f:\n",
        "    for j, line in enumerate(f):\n",
        "        # Only add to corpus if corresponding source was not skipped.\n",
        "        if j not in skip_lines:\n",
        "            target.append(line.strip())\n",
        "    \n",
        "print('Loaded data and skipped {}/{} lines since contained in test set.'.format(len(skip_lines), i))\n",
        "    \n",
        "df = pd.DataFrame(zip(source, target), columns=['source_sentence', 'target_sentence'])\n",
        "# if you get TypeError: data argument can't be an iterator is because of your zip version run this below\n",
        "#df = pd.DataFrame(list(zip(source, target)), columns=['source_sentence', 'target_sentence'])\n",
        "df.head(3)"
      ],
      "execution_count": 8,
      "outputs": [
        {
          "output_type": "stream",
          "text": [
            "Loaded data and skipped 7158/876188 lines since contained in test set.\n"
          ],
          "name": "stdout"
        },
        {
          "output_type": "execute_result",
          "data": {
            "text/html": [
              "<div>\n",
              "<style scoped>\n",
              "    .dataframe tbody tr th:only-of-type {\n",
              "        vertical-align: middle;\n",
              "    }\n",
              "\n",
              "    .dataframe tbody tr th {\n",
              "        vertical-align: top;\n",
              "    }\n",
              "\n",
              "    .dataframe thead th {\n",
              "        text-align: right;\n",
              "    }\n",
              "</style>\n",
              "<table border=\"1\" class=\"dataframe\">\n",
              "  <thead>\n",
              "    <tr style=\"text-align: right;\">\n",
              "      <th></th>\n",
              "      <th>source_sentence</th>\n",
              "      <th>target_sentence</th>\n",
              "    </tr>\n",
              "  </thead>\n",
              "  <tbody>\n",
              "    <tr>\n",
              "      <th>0</th>\n",
              "      <td>How One Marriage Was Saved</td>\n",
              "      <td>Indlela Owasindiswa Ngayo Lo Mtshato</td>\n",
              "    </tr>\n",
              "    <tr>\n",
              "      <th>1</th>\n",
              "      <td>“ The application of the counsel in the book M...</td>\n",
              "      <td>Omnye umfundi onoxabiso nowaseMzantsi Afrika w...</td>\n",
              "    </tr>\n",
              "    <tr>\n",
              "      <th>2</th>\n",
              "      <td>“ Chapter 5 , ‘ A Wife Who Is Dearly Loved , ’...</td>\n",
              "      <td>“ Isahluko 5 , esithi ‘ Umfazi Othandwa Kunene...</td>\n",
              "    </tr>\n",
              "  </tbody>\n",
              "</table>\n",
              "</div>"
            ],
            "text/plain": [
              "                                     source_sentence                                    target_sentence\n",
              "0                         How One Marriage Was Saved               Indlela Owasindiswa Ngayo Lo Mtshato\n",
              "1  “ The application of the counsel in the book M...  Omnye umfundi onoxabiso nowaseMzantsi Afrika w...\n",
              "2  “ Chapter 5 , ‘ A Wife Who Is Dearly Loved , ’...  “ Isahluko 5 , esithi ‘ Umfazi Othandwa Kunene..."
            ]
          },
          "metadata": {
            "tags": []
          },
          "execution_count": 8
        }
      ]
    },
    {
      "cell_type": "markdown",
      "metadata": {
        "colab_type": "text",
        "id": "YkuK3B4p2AkN"
      },
      "source": [
        "## Pre-processing and export\n",
        "\n",
        "It is generally a good idea to remove duplicate translations and conflicting translations from the corpus. In practice, these public corpora include some number of these that need to be cleaned.\n",
        "\n",
        "In addition we will split our data into dev/test/train and export to the filesystem."
      ]
    },
    {
      "cell_type": "code",
      "metadata": {
        "colab_type": "code",
        "id": "M_2ouEOH1_1q",
        "colab": {
          "base_uri": "https://localhost:8080/",
          "height": 187
        },
        "outputId": "5f6331f2-2d8e-49be-e5c1-35b67551e2b6"
      },
      "source": [
        "#TODO: Need not run for for retrain\n",
        "# drop duplicate translations\n",
        "df_pp = df.drop_duplicates()\n",
        "\n",
        "# drop conflicting translations\n",
        "# (this is optional and something that you might want to comment out \n",
        "# depending on the size of your corpus)\n",
        "df_pp.drop_duplicates(subset='source_sentence', inplace=True)\n",
        "df_pp.drop_duplicates(subset='target_sentence', inplace=True)\n",
        "\n",
        "# Shuffle the data to remove bias in dev set selection.\n",
        "df_pp = df_pp.sample(frac=1, random_state=seed).reset_index(drop=True)"
      ],
      "execution_count": 9,
      "outputs": [
        {
          "output_type": "stream",
          "text": [
            "/usr/local/lib/python3.6/dist-packages/ipykernel_launcher.py:6: SettingWithCopyWarning: \n",
            "A value is trying to be set on a copy of a slice from a DataFrame\n",
            "\n",
            "See the caveats in the documentation: http://pandas.pydata.org/pandas-docs/stable/user_guide/indexing.html#returning-a-view-versus-a-copy\n",
            "  \n",
            "/usr/local/lib/python3.6/dist-packages/ipykernel_launcher.py:7: SettingWithCopyWarning: \n",
            "A value is trying to be set on a copy of a slice from a DataFrame\n",
            "\n",
            "See the caveats in the documentation: http://pandas.pydata.org/pandas-docs/stable/user_guide/indexing.html#returning-a-view-versus-a-copy\n",
            "  import sys\n"
          ],
          "name": "stderr"
        }
      ]
    },
    {
      "cell_type": "code",
      "metadata": {
        "id": "Z_1BwAApEtMk",
        "colab_type": "code",
        "colab": {
          "base_uri": "https://localhost:8080/",
          "height": 1000
        },
        "outputId": "a4c76676-678c-4742-f958-966efe999c0a"
      },
      "source": [
        "#TODO: Need not run for for retrain\n",
        "# Install fuzzy wuzzy to remove \"almost duplicate\" sentences in the\n",
        "# test and training sets.\n",
        "! pip install fuzzywuzzy\n",
        "! pip install python-Levenshtein\n",
        "import time\n",
        "from fuzzywuzzy import process\n",
        "import numpy as np\n",
        "\n",
        "# reset the index of the training set after previous filtering\n",
        "df_pp.reset_index(drop=False, inplace=True)\n",
        "\n",
        "# Remove samples from the training data set if they \"almost overlap\" with the\n",
        "# samples in the test set.\n",
        "\n",
        "# Filtering function. Adjust pad to narrow down the candidate matches to\n",
        "# within a certain length of characters of the given sample.\n",
        "def fuzzfilter(sample, candidates, pad):\n",
        "  candidates = [x for x in candidates if len(x) <= len(sample)+pad and len(x) >= len(sample)-pad] \n",
        "  if len(candidates) > 0:\n",
        "    return process.extractOne(sample, candidates)[1]\n",
        "  else:\n",
        "    return np.nan\n",
        "\n",
        "# NOTE - This might run slow depending on the size of your training set. We are\n",
        "# printing some information to help you track how long it would take. \n",
        "scores = []\n",
        "start_time = time.time()\n",
        "for idx, row in df_pp.iterrows():\n",
        "  scores.append(fuzzfilter(row['source_sentence'], list(en_test_sents), 5))\n",
        "  if idx % 1000 == 0:\n",
        "    hours, rem = divmod(time.time() - start_time, 3600)\n",
        "    minutes, seconds = divmod(rem, 60)\n",
        "    print(\"{:0>2}:{:0>2}:{:05.2f}\".format(int(hours),int(minutes),seconds), \"%0.2f percent complete\" % (100.0*float(idx)/float(len(df_pp))))\n",
        "\n",
        "# Filter out \"almost overlapping samples\"\n",
        "df_pp['scores'] = scores\n",
        "df_pp = df_pp[df_pp['scores'] < 95]"
      ],
      "execution_count": 10,
      "outputs": [
        {
          "output_type": "stream",
          "text": [
            "Collecting fuzzywuzzy\n",
            "  Downloading https://files.pythonhosted.org/packages/d8/f1/5a267addb30ab7eaa1beab2b9323073815da4551076554ecc890a3595ec9/fuzzywuzzy-0.17.0-py2.py3-none-any.whl\n",
            "Installing collected packages: fuzzywuzzy\n",
            "Successfully installed fuzzywuzzy-0.17.0\n",
            "Collecting python-Levenshtein\n",
            "\u001b[?25l  Downloading https://files.pythonhosted.org/packages/42/a9/d1785c85ebf9b7dfacd08938dd028209c34a0ea3b1bcdb895208bd40a67d/python-Levenshtein-0.12.0.tar.gz (48kB)\n",
            "\u001b[K     |████████████████████████████████| 51kB 6.0MB/s \n",
            "\u001b[?25hRequirement already satisfied: setuptools in /usr/local/lib/python3.6/dist-packages (from python-Levenshtein) (42.0.2)\n",
            "Building wheels for collected packages: python-Levenshtein\n",
            "  Building wheel for python-Levenshtein (setup.py) ... \u001b[?25l\u001b[?25hdone\n",
            "  Created wheel for python-Levenshtein: filename=python_Levenshtein-0.12.0-cp36-cp36m-linux_x86_64.whl size=144675 sha256=c603320b54916b69dc5d26f92c63f9a5b5df8a2a0c4926898fe11de36cad266c\n",
            "  Stored in directory: /root/.cache/pip/wheels/de/c2/93/660fd5f7559049268ad2dc6d81c4e39e9e36518766eaf7e342\n",
            "Successfully built python-Levenshtein\n",
            "Installing collected packages: python-Levenshtein\n",
            "Successfully installed python-Levenshtein-0.12.0\n",
            "00:00:00.26 0.00 percent complete\n",
            "00:00:18.30 0.13 percent complete\n",
            "00:00:36.75 0.25 percent complete\n",
            "00:00:55.49 0.38 percent complete\n",
            "00:01:13.98 0.51 percent complete\n",
            "00:01:32.77 0.63 percent complete\n",
            "00:01:50.78 0.76 percent complete\n",
            "00:02:08.95 0.88 percent complete\n",
            "00:02:27.15 1.01 percent complete\n",
            "00:02:45.84 1.14 percent complete\n",
            "00:03:04.76 1.26 percent complete\n",
            "00:03:23.44 1.39 percent complete\n",
            "00:03:41.86 1.52 percent complete\n",
            "00:04:00.52 1.64 percent complete\n",
            "00:04:18.59 1.77 percent complete\n",
            "00:04:36.64 1.89 percent complete\n",
            "00:04:55.39 2.02 percent complete\n",
            "00:05:13.84 2.15 percent complete\n",
            "00:05:32.23 2.27 percent complete\n",
            "00:05:50.62 2.40 percent complete\n",
            "00:06:08.43 2.53 percent complete\n",
            "00:06:26.29 2.65 percent complete\n",
            "00:06:44.77 2.78 percent complete\n",
            "00:07:02.86 2.90 percent complete\n",
            "00:07:21.18 3.03 percent complete\n",
            "00:07:39.21 3.16 percent complete\n",
            "00:07:57.71 3.28 percent complete\n",
            "00:08:16.02 3.41 percent complete\n",
            "00:08:34.72 3.54 percent complete\n",
            "00:08:53.78 3.66 percent complete\n",
            "00:09:12.26 3.79 percent complete\n",
            "00:09:31.28 3.91 percent complete\n",
            "00:09:50.27 4.04 percent complete\n",
            "00:10:08.58 4.17 percent complete\n",
            "00:10:27.10 4.29 percent complete\n",
            "00:10:46.28 4.42 percent complete\n",
            "00:11:05.16 4.55 percent complete\n",
            "00:11:23.28 4.67 percent complete\n",
            "00:11:41.82 4.80 percent complete\n",
            "00:12:00.12 4.92 percent complete\n",
            "00:12:18.84 5.05 percent complete\n",
            "00:12:37.06 5.18 percent complete\n",
            "00:12:56.10 5.30 percent complete\n",
            "00:13:14.16 5.43 percent complete\n",
            "00:13:32.85 5.56 percent complete\n",
            "00:13:51.92 5.68 percent complete\n",
            "00:14:09.63 5.81 percent complete\n",
            "00:14:28.49 5.93 percent complete\n",
            "00:14:47.13 6.06 percent complete\n"
          ],
          "name": "stdout"
        },
        {
          "output_type": "stream",
          "text": [
            "WARNING:root:Applied processor reduces input query to empty string, all comparisons will have score 0. [Query: '← ←']\n"
          ],
          "name": "stderr"
        },
        {
          "output_type": "stream",
          "text": [
            "00:15:05.54 6.19 percent complete\n",
            "00:15:23.96 6.31 percent complete\n",
            "00:15:41.57 6.44 percent complete\n",
            "00:16:00.46 6.57 percent complete\n",
            "00:16:18.03 6.69 percent complete\n"
          ],
          "name": "stdout"
        },
        {
          "output_type": "stream",
          "text": [
            "WARNING:root:Applied processor reduces input query to empty string, all comparisons will have score 0. [Query: '→ →']\n",
            "WARNING:root:Applied processor reduces input query to empty string, all comparisons will have score 0. [Query: '↓']\n"
          ],
          "name": "stderr"
        },
        {
          "output_type": "stream",
          "text": [
            "00:16:35.78 6.82 percent complete\n",
            "00:16:54.71 6.94 percent complete\n",
            "00:17:12.70 7.07 percent complete\n",
            "00:17:30.78 7.20 percent complete\n",
            "00:17:49.67 7.32 percent complete\n",
            "00:18:08.25 7.45 percent complete\n",
            "00:18:26.55 7.58 percent complete\n",
            "00:18:45.16 7.70 percent complete\n",
            "00:19:04.12 7.83 percent complete\n",
            "00:19:22.51 7.95 percent complete\n",
            "00:19:40.97 8.08 percent complete\n",
            "00:19:59.66 8.21 percent complete\n",
            "00:20:18.00 8.33 percent complete\n"
          ],
          "name": "stdout"
        },
        {
          "output_type": "stream",
          "text": [
            "WARNING:root:Applied processor reduces input query to empty string, all comparisons will have score 0. [Query: '● ● ● ● ●']\n"
          ],
          "name": "stderr"
        },
        {
          "output_type": "stream",
          "text": [
            "00:20:35.81 8.46 percent complete\n",
            "00:20:54.57 8.59 percent complete\n",
            "00:21:12.73 8.71 percent complete\n",
            "00:21:30.86 8.84 percent complete\n",
            "00:21:49.29 8.96 percent complete\n",
            "00:22:07.06 9.09 percent complete\n"
          ],
          "name": "stdout"
        },
        {
          "output_type": "stream",
          "text": [
            "WARNING:root:Applied processor reduces input query to empty string, all comparisons will have score 0. [Query: '⇩']\n"
          ],
          "name": "stderr"
        },
        {
          "output_type": "stream",
          "text": [
            "00:22:25.55 9.22 percent complete\n",
            "00:22:43.84 9.34 percent complete\n",
            "00:23:02.31 9.47 percent complete\n",
            "00:23:20.83 9.60 percent complete\n",
            "00:23:39.24 9.72 percent complete\n",
            "00:23:57.72 9.85 percent complete\n",
            "00:24:16.26 9.97 percent complete\n",
            "00:24:33.77 10.10 percent complete\n",
            "00:24:52.62 10.23 percent complete\n",
            "00:25:10.83 10.35 percent complete\n",
            "00:25:28.97 10.48 percent complete\n",
            "00:25:47.46 10.61 percent complete\n",
            "00:26:06.37 10.73 percent complete\n",
            "00:26:24.78 10.86 percent complete\n",
            "00:26:43.19 10.98 percent complete\n",
            "00:27:01.43 11.11 percent complete\n",
            "00:27:19.17 11.24 percent complete\n",
            "00:27:37.29 11.36 percent complete\n",
            "00:27:55.97 11.49 percent complete\n",
            "00:28:14.30 11.62 percent complete\n",
            "00:28:33.50 11.74 percent complete\n",
            "00:28:52.37 11.87 percent complete\n",
            "00:29:10.65 11.99 percent complete\n",
            "00:29:28.52 12.12 percent complete\n",
            "00:29:47.24 12.25 percent complete\n",
            "00:30:05.14 12.37 percent complete\n",
            "00:30:23.28 12.50 percent complete\n",
            "00:30:41.87 12.63 percent complete\n",
            "00:31:00.26 12.75 percent complete\n",
            "00:31:18.06 12.88 percent complete\n",
            "00:31:36.79 13.00 percent complete\n",
            "00:31:55.37 13.13 percent complete\n",
            "00:32:13.30 13.26 percent complete\n",
            "00:32:31.21 13.38 percent complete\n",
            "00:32:49.14 13.51 percent complete\n",
            "00:33:07.20 13.64 percent complete\n",
            "00:33:25.65 13.76 percent complete\n",
            "00:33:44.25 13.89 percent complete\n",
            "00:34:02.41 14.01 percent complete\n",
            "00:34:20.65 14.14 percent complete\n",
            "00:34:39.05 14.27 percent complete\n",
            "00:34:57.30 14.39 percent complete\n",
            "00:35:15.94 14.52 percent complete\n",
            "00:35:34.37 14.65 percent complete\n",
            "00:35:52.91 14.77 percent complete\n",
            "00:36:11.10 14.90 percent complete\n",
            "00:36:29.55 15.02 percent complete\n",
            "00:36:48.46 15.15 percent complete\n"
          ],
          "name": "stdout"
        },
        {
          "output_type": "stream",
          "text": [
            "WARNING:root:Applied processor reduces input query to empty string, all comparisons will have score 0. [Query: '↓ ↓ ↓ ↓']\n"
          ],
          "name": "stderr"
        },
        {
          "output_type": "stream",
          "text": [
            "00:37:07.16 15.28 percent complete\n",
            "00:37:25.51 15.40 percent complete\n",
            "00:37:44.10 15.53 percent complete\n",
            "00:38:02.99 15.66 percent complete\n",
            "00:38:21.59 15.78 percent complete\n",
            "00:38:39.70 15.91 percent complete\n",
            "00:38:58.74 16.03 percent complete\n",
            "00:39:17.00 16.16 percent complete\n",
            "00:39:35.44 16.29 percent complete\n",
            "00:39:54.08 16.41 percent complete\n",
            "00:40:12.45 16.54 percent complete\n",
            "00:40:30.75 16.67 percent complete\n"
          ],
          "name": "stdout"
        },
        {
          "output_type": "stream",
          "text": [
            "WARNING:root:Applied processor reduces input query to empty string, all comparisons will have score 0. [Query: '□ ․ ․ ․ ․ ․']\n"
          ],
          "name": "stderr"
        },
        {
          "output_type": "stream",
          "text": [
            "00:40:49.68 16.79 percent complete\n",
            "00:41:07.97 16.92 percent complete\n",
            "00:41:25.93 17.04 percent complete\n",
            "00:41:44.23 17.17 percent complete\n",
            "00:42:02.37 17.30 percent complete\n",
            "00:42:21.19 17.42 percent complete\n",
            "00:42:39.64 17.55 percent complete\n",
            "00:42:58.47 17.68 percent complete\n",
            "00:43:15.92 17.80 percent complete\n",
            "00:43:34.28 17.93 percent complete\n",
            "00:43:52.47 18.05 percent complete\n",
            "00:44:09.96 18.18 percent complete\n",
            "00:44:27.89 18.31 percent complete\n",
            "00:44:46.09 18.43 percent complete\n",
            "00:45:04.85 18.56 percent complete\n",
            "00:45:23.01 18.69 percent complete\n",
            "00:45:41.24 18.81 percent complete\n",
            "00:45:59.34 18.94 percent complete\n",
            "00:46:17.64 19.06 percent complete\n",
            "00:46:36.20 19.19 percent complete\n",
            "00:46:54.85 19.32 percent complete\n",
            "00:47:12.73 19.44 percent complete\n",
            "00:47:30.85 19.57 percent complete\n",
            "00:47:49.37 19.70 percent complete\n",
            "00:48:07.32 19.82 percent complete\n",
            "00:48:25.65 19.95 percent complete\n",
            "00:48:43.78 20.07 percent complete\n",
            "00:49:02.24 20.20 percent complete\n",
            "00:49:19.99 20.33 percent complete\n",
            "00:49:38.06 20.45 percent complete\n",
            "00:49:56.98 20.58 percent complete\n",
            "00:50:15.16 20.71 percent complete\n",
            "00:50:33.81 20.83 percent complete\n",
            "00:50:52.73 20.96 percent complete\n",
            "00:51:10.57 21.08 percent complete\n",
            "00:51:28.27 21.21 percent complete\n",
            "00:51:46.66 21.34 percent complete\n",
            "00:52:04.82 21.46 percent complete\n",
            "00:52:22.25 21.59 percent complete\n",
            "00:52:40.95 21.72 percent complete\n",
            "00:52:59.93 21.84 percent complete\n",
            "00:53:18.31 21.97 percent complete\n",
            "00:53:36.28 22.09 percent complete\n",
            "00:53:54.79 22.22 percent complete\n",
            "00:54:12.68 22.35 percent complete\n",
            "00:54:30.85 22.47 percent complete\n",
            "00:54:49.28 22.60 percent complete\n",
            "00:55:07.54 22.73 percent complete\n",
            "00:55:25.19 22.85 percent complete\n",
            "00:55:43.71 22.98 percent complete\n",
            "00:56:01.80 23.10 percent complete\n",
            "00:56:19.49 23.23 percent complete\n",
            "00:56:37.96 23.36 percent complete\n",
            "00:56:56.33 23.48 percent complete\n",
            "00:57:14.48 23.61 percent complete\n",
            "00:57:32.94 23.74 percent complete\n",
            "00:57:51.94 23.86 percent complete\n",
            "00:58:10.33 23.99 percent complete\n",
            "00:58:28.06 24.11 percent complete\n",
            "00:58:46.30 24.24 percent complete\n",
            "00:59:04.49 24.37 percent complete\n",
            "00:59:22.01 24.49 percent complete\n",
            "00:59:40.35 24.62 percent complete\n"
          ],
          "name": "stdout"
        },
        {
          "output_type": "stream",
          "text": [
            "WARNING:root:Applied processor reduces input query to empty string, all comparisons will have score 0. [Query: '→ → →']\n"
          ],
          "name": "stderr"
        },
        {
          "output_type": "stream",
          "text": [
            "00:59:58.41 24.75 percent complete\n",
            "01:00:16.83 24.87 percent complete\n",
            "01:00:34.36 25.00 percent complete\n",
            "01:00:52.84 25.12 percent complete\n"
          ],
          "name": "stdout"
        },
        {
          "output_type": "stream",
          "text": [
            "WARNING:root:Applied processor reduces input query to empty string, all comparisons will have score 0. [Query: '↓ ↓']\n"
          ],
          "name": "stderr"
        },
        {
          "output_type": "stream",
          "text": [
            "01:01:11.30 25.25 percent complete\n",
            "01:01:29.91 25.38 percent complete\n",
            "01:01:48.57 25.50 percent complete\n",
            "01:02:06.23 25.63 percent complete\n",
            "01:02:23.88 25.76 percent complete\n",
            "01:02:42.35 25.88 percent complete\n",
            "01:03:00.93 26.01 percent complete\n",
            "01:03:19.04 26.13 percent complete\n",
            "01:03:37.06 26.26 percent complete\n",
            "01:03:56.18 26.39 percent complete\n",
            "01:04:13.94 26.51 percent complete\n"
          ],
          "name": "stdout"
        },
        {
          "output_type": "stream",
          "text": [
            "WARNING:root:Applied processor reduces input query to empty string, all comparisons will have score 0. [Query: '▴']\n"
          ],
          "name": "stderr"
        },
        {
          "output_type": "stream",
          "text": [
            "01:04:32.16 26.64 percent complete\n",
            "01:04:50.83 26.77 percent complete\n",
            "01:05:09.59 26.89 percent complete\n",
            "01:05:27.84 27.02 percent complete\n",
            "01:05:45.93 27.14 percent complete\n",
            "01:06:04.32 27.27 percent complete\n",
            "01:06:23.24 27.40 percent complete\n",
            "01:06:41.47 27.52 percent complete\n",
            "01:06:59.85 27.65 percent complete\n",
            "01:07:17.89 27.78 percent complete\n",
            "01:07:35.87 27.90 percent complete\n",
            "01:07:54.36 28.03 percent complete\n",
            "01:08:11.95 28.15 percent complete\n",
            "01:08:30.44 28.28 percent complete\n",
            "01:08:49.12 28.41 percent complete\n",
            "01:09:07.68 28.53 percent complete\n",
            "01:09:25.67 28.66 percent complete\n",
            "01:09:44.01 28.79 percent complete\n",
            "01:10:02.76 28.91 percent complete\n",
            "01:10:21.23 29.04 percent complete\n",
            "01:10:39.75 29.16 percent complete\n",
            "01:10:57.40 29.29 percent complete\n",
            "01:11:15.44 29.42 percent complete\n",
            "01:11:33.31 29.54 percent complete\n",
            "01:11:51.73 29.67 percent complete\n",
            "01:12:09.58 29.80 percent complete\n",
            "01:12:26.81 29.92 percent complete\n",
            "01:12:45.80 30.05 percent complete\n",
            "01:13:03.85 30.17 percent complete\n",
            "01:13:21.86 30.30 percent complete\n",
            "01:13:39.68 30.43 percent complete\n",
            "01:13:58.06 30.55 percent complete\n",
            "01:14:15.91 30.68 percent complete\n",
            "01:14:34.33 30.81 percent complete\n",
            "01:14:52.02 30.93 percent complete\n",
            "01:15:09.89 31.06 percent complete\n",
            "01:15:27.64 31.18 percent complete\n",
            "01:15:46.34 31.31 percent complete\n",
            "01:16:04.96 31.44 percent complete\n",
            "01:16:22.50 31.56 percent complete\n",
            "01:16:40.50 31.69 percent complete\n",
            "01:16:59.05 31.82 percent complete\n",
            "01:17:16.60 31.94 percent complete\n",
            "01:17:35.34 32.07 percent complete\n",
            "01:17:53.51 32.19 percent complete\n",
            "01:18:11.24 32.32 percent complete\n",
            "01:18:29.46 32.45 percent complete\n",
            "01:18:48.05 32.57 percent complete\n",
            "01:19:05.90 32.70 percent complete\n",
            "01:19:24.17 32.83 percent complete\n",
            "01:19:42.42 32.95 percent complete\n"
          ],
          "name": "stdout"
        },
        {
          "output_type": "stream",
          "text": [
            "WARNING:root:Applied processor reduces input query to empty string, all comparisons will have score 0. [Query: '\\']\n",
            "WARNING:root:Applied processor reduces input query to empty string, all comparisons will have score 0. [Query: '”']\n"
          ],
          "name": "stderr"
        },
        {
          "output_type": "stream",
          "text": [
            "01:20:00.72 33.08 percent complete\n",
            "01:20:18.63 33.20 percent complete\n",
            "01:20:37.14 33.33 percent complete\n",
            "01:20:56.16 33.46 percent complete\n",
            "01:21:14.58 33.58 percent complete\n",
            "01:21:32.73 33.71 percent complete\n"
          ],
          "name": "stdout"
        },
        {
          "output_type": "stream",
          "text": [
            "WARNING:root:Applied processor reduces input query to empty string, all comparisons will have score 0. [Query: '↓ ↓ ↓']\n"
          ],
          "name": "stderr"
        },
        {
          "output_type": "stream",
          "text": [
            "01:21:51.66 33.84 percent complete\n",
            "01:22:09.48 33.96 percent complete\n",
            "01:22:28.31 34.09 percent complete\n",
            "01:22:46.79 34.21 percent complete\n",
            "01:23:04.50 34.34 percent complete\n",
            "01:23:22.32 34.47 percent complete\n",
            "01:23:40.73 34.59 percent complete\n",
            "01:23:59.13 34.72 percent complete\n",
            "01:24:17.16 34.85 percent complete\n",
            "01:24:35.73 34.97 percent complete\n",
            "01:24:54.31 35.10 percent complete\n",
            "01:25:12.66 35.22 percent complete\n",
            "01:25:30.98 35.35 percent complete\n",
            "01:25:50.48 35.48 percent complete\n",
            "01:26:08.32 35.60 percent complete\n",
            "01:26:27.02 35.73 percent complete\n",
            "01:26:45.44 35.86 percent complete\n",
            "01:27:04.11 35.98 percent complete\n",
            "01:27:22.33 36.11 percent complete\n",
            "01:27:40.74 36.23 percent complete\n",
            "01:27:59.24 36.36 percent complete\n",
            "01:28:17.61 36.49 percent complete\n",
            "01:28:36.28 36.61 percent complete\n",
            "01:28:54.62 36.74 percent complete\n",
            "01:29:13.68 36.87 percent complete\n",
            "01:29:31.89 36.99 percent complete\n",
            "01:29:50.00 37.12 percent complete\n",
            "01:30:08.60 37.24 percent complete\n",
            "01:30:26.32 37.37 percent complete\n"
          ],
          "name": "stdout"
        },
        {
          "output_type": "stream",
          "text": [
            "WARNING:root:Applied processor reduces input query to empty string, all comparisons will have score 0. [Query: '']\n"
          ],
          "name": "stderr"
        },
        {
          "output_type": "stream",
          "text": [
            "01:30:44.93 37.50 percent complete\n",
            "01:31:03.32 37.62 percent complete\n",
            "01:31:21.59 37.75 percent complete\n",
            "01:31:40.35 37.88 percent complete\n",
            "01:31:58.43 38.00 percent complete\n",
            "01:32:16.47 38.13 percent complete\n",
            "01:32:34.71 38.25 percent complete\n",
            "01:32:53.11 38.38 percent complete\n",
            "01:33:11.32 38.51 percent complete\n",
            "01:33:29.91 38.63 percent complete\n",
            "01:33:48.34 38.76 percent complete\n",
            "01:34:06.36 38.89 percent complete\n",
            "01:34:24.82 39.01 percent complete\n",
            "01:34:42.96 39.14 percent complete\n",
            "01:35:01.25 39.26 percent complete\n",
            "01:35:19.47 39.39 percent complete\n",
            "01:35:37.79 39.52 percent complete\n",
            "01:35:56.58 39.64 percent complete\n",
            "01:36:14.98 39.77 percent complete\n",
            "01:36:33.70 39.90 percent complete\n",
            "01:36:51.85 40.02 percent complete\n",
            "01:37:09.75 40.15 percent complete\n",
            "01:37:27.85 40.27 percent complete\n",
            "01:37:46.31 40.40 percent complete\n",
            "01:38:04.71 40.53 percent complete\n",
            "01:38:22.84 40.65 percent complete\n",
            "01:38:41.33 40.78 percent complete\n"
          ],
          "name": "stdout"
        },
        {
          "output_type": "stream",
          "text": [
            "WARNING:root:Applied processor reduces input query to empty string, all comparisons will have score 0. [Query: '*']\n"
          ],
          "name": "stderr"
        },
        {
          "output_type": "stream",
          "text": [
            "01:38:59.77 40.91 percent complete\n",
            "01:39:17.96 41.03 percent complete\n",
            "01:39:36.03 41.16 percent complete\n",
            "01:39:54.89 41.28 percent complete\n",
            "01:40:12.62 41.41 percent complete\n",
            "01:40:30.91 41.54 percent complete\n",
            "01:40:49.59 41.66 percent complete\n",
            "01:41:07.75 41.79 percent complete\n",
            "01:41:25.55 41.92 percent complete\n",
            "01:41:43.54 42.04 percent complete\n",
            "01:42:01.90 42.17 percent complete\n",
            "01:42:19.32 42.29 percent complete\n"
          ],
          "name": "stdout"
        },
        {
          "output_type": "stream",
          "text": [
            "WARNING:root:Applied processor reduces input query to empty string, all comparisons will have score 0. [Query: '← ◯']\n"
          ],
          "name": "stderr"
        },
        {
          "output_type": "stream",
          "text": [
            "01:42:37.35 42.42 percent complete\n",
            "01:42:55.14 42.55 percent complete\n",
            "01:43:12.62 42.67 percent complete\n",
            "01:43:30.48 42.80 percent complete\n",
            "01:43:48.69 42.93 percent complete\n",
            "01:44:06.85 43.05 percent complete\n",
            "01:44:25.16 43.18 percent complete\n",
            "01:44:43.78 43.30 percent complete\n",
            "01:45:02.07 43.43 percent complete\n",
            "01:45:20.62 43.56 percent complete\n",
            "01:45:39.07 43.68 percent complete\n",
            "01:45:57.55 43.81 percent complete\n",
            "01:46:15.46 43.94 percent complete\n",
            "01:46:33.88 44.06 percent complete\n"
          ],
          "name": "stdout"
        },
        {
          "output_type": "stream",
          "text": [
            "WARNING:root:Applied processor reduces input query to empty string, all comparisons will have score 0. [Query: '. .']\n"
          ],
          "name": "stderr"
        },
        {
          "output_type": "stream",
          "text": [
            "01:46:52.47 44.19 percent complete\n",
            "01:47:10.97 44.31 percent complete\n",
            "01:47:29.27 44.44 percent complete\n",
            "01:47:47.58 44.57 percent complete\n",
            "01:48:05.53 44.69 percent complete\n",
            "01:48:24.14 44.82 percent complete\n",
            "01:48:42.30 44.95 percent complete\n"
          ],
          "name": "stdout"
        },
        {
          "output_type": "stream",
          "text": [
            "WARNING:root:Applied processor reduces input query to empty string, all comparisons will have score 0. [Query: '←']\n"
          ],
          "name": "stderr"
        },
        {
          "output_type": "stream",
          "text": [
            "01:49:00.60 45.07 percent complete\n",
            "01:49:18.26 45.20 percent complete\n"
          ],
          "name": "stdout"
        },
        {
          "output_type": "stream",
          "text": [
            "WARNING:root:Applied processor reduces input query to empty string, all comparisons will have score 0. [Query: '” ?']\n"
          ],
          "name": "stderr"
        },
        {
          "output_type": "stream",
          "text": [
            "01:49:36.70 45.32 percent complete\n",
            "01:49:54.50 45.45 percent complete\n",
            "01:50:12.20 45.58 percent complete\n",
            "01:50:30.86 45.70 percent complete\n",
            "01:50:49.28 45.83 percent complete\n"
          ],
          "name": "stdout"
        },
        {
          "output_type": "stream",
          "text": [
            "WARNING:root:Applied processor reduces input query to empty string, all comparisons will have score 0. [Query: '⇧']\n"
          ],
          "name": "stderr"
        },
        {
          "output_type": "stream",
          "text": [
            "01:51:07.34 45.96 percent complete\n",
            "01:51:25.43 46.08 percent complete\n",
            "01:51:43.33 46.21 percent complete\n"
          ],
          "name": "stdout"
        },
        {
          "output_type": "stream",
          "text": [
            "WARNING:root:Applied processor reduces input query to empty string, all comparisons will have score 0. [Query: '“ . . .']\n"
          ],
          "name": "stderr"
        },
        {
          "output_type": "stream",
          "text": [
            "01:52:02.06 46.33 percent complete\n",
            "01:52:20.58 46.46 percent complete\n",
            "01:52:39.06 46.59 percent complete\n",
            "01:52:57.72 46.71 percent complete\n",
            "01:53:16.06 46.84 percent complete\n",
            "01:53:34.55 46.97 percent complete\n",
            "01:53:52.84 47.09 percent complete\n",
            "01:54:11.16 47.22 percent complete\n",
            "01:54:29.73 47.34 percent complete\n",
            "01:54:48.02 47.47 percent complete\n",
            "01:55:05.99 47.60 percent complete\n",
            "01:55:23.97 47.72 percent complete\n",
            "01:55:41.84 47.85 percent complete\n",
            "01:56:00.41 47.98 percent complete\n",
            "01:56:19.21 48.10 percent complete\n",
            "01:56:37.38 48.23 percent complete\n",
            "01:56:56.06 48.35 percent complete\n",
            "01:57:14.87 48.48 percent complete\n",
            "01:57:33.83 48.61 percent complete\n",
            "01:57:52.18 48.73 percent complete\n",
            "01:58:10.20 48.86 percent complete\n",
            "01:58:28.81 48.99 percent complete\n",
            "01:58:46.96 49.11 percent complete\n",
            "01:59:05.29 49.24 percent complete\n",
            "01:59:23.44 49.36 percent complete\n",
            "01:59:42.58 49.49 percent complete\n",
            "02:00:01.06 49.62 percent complete\n",
            "02:00:19.01 49.74 percent complete\n",
            "02:00:37.00 49.87 percent complete\n",
            "02:00:55.86 50.00 percent complete\n",
            "02:01:13.49 50.12 percent complete\n",
            "02:01:32.34 50.25 percent complete\n",
            "02:01:50.90 50.37 percent complete\n",
            "02:02:09.28 50.50 percent complete\n",
            "02:02:27.40 50.63 percent complete\n",
            "02:02:45.42 50.75 percent complete\n",
            "02:03:03.81 50.88 percent complete\n",
            "02:03:21.97 51.01 percent complete\n",
            "02:03:40.40 51.13 percent complete\n",
            "02:03:58.36 51.26 percent complete\n",
            "02:04:16.06 51.38 percent complete\n",
            "02:04:34.50 51.51 percent complete\n",
            "02:04:52.84 51.64 percent complete\n",
            "02:05:10.95 51.76 percent complete\n",
            "02:05:29.48 51.89 percent complete\n",
            "02:05:48.30 52.02 percent complete\n",
            "02:06:05.78 52.14 percent complete\n",
            "02:06:23.75 52.27 percent complete\n",
            "02:06:42.23 52.39 percent complete\n",
            "02:07:00.75 52.52 percent complete\n",
            "02:07:18.87 52.65 percent complete\n",
            "02:07:36.78 52.77 percent complete\n",
            "02:07:54.98 52.90 percent complete\n",
            "02:08:12.68 53.03 percent complete\n",
            "02:08:31.78 53.15 percent complete\n",
            "02:08:49.44 53.28 percent complete\n",
            "02:09:07.26 53.40 percent complete\n",
            "02:09:26.06 53.53 percent complete\n",
            "02:09:44.04 53.66 percent complete\n",
            "02:10:02.64 53.78 percent complete\n",
            "02:10:20.60 53.91 percent complete\n",
            "02:10:38.96 54.04 percent complete\n",
            "02:10:57.45 54.16 percent complete\n",
            "02:11:15.15 54.29 percent complete\n",
            "02:11:33.86 54.41 percent complete\n",
            "02:11:52.01 54.54 percent complete\n",
            "02:12:09.84 54.67 percent complete\n",
            "02:12:28.19 54.79 percent complete\n",
            "02:12:46.29 54.92 percent complete\n",
            "02:13:04.60 55.05 percent complete\n",
            "02:13:23.06 55.17 percent complete\n",
            "02:13:42.04 55.30 percent complete\n",
            "02:14:00.18 55.42 percent complete\n",
            "02:14:18.53 55.55 percent complete\n",
            "02:14:36.84 55.68 percent complete\n",
            "02:14:55.07 55.80 percent complete\n",
            "02:15:13.59 55.93 percent complete\n",
            "02:15:32.03 56.06 percent complete\n",
            "02:15:50.49 56.18 percent complete\n",
            "02:16:08.96 56.31 percent complete\n",
            "02:16:26.84 56.43 percent complete\n",
            "02:16:44.79 56.56 percent complete\n",
            "02:17:02.97 56.69 percent complete\n",
            "02:17:20.93 56.81 percent complete\n",
            "02:17:39.29 56.94 percent complete\n",
            "02:17:57.57 57.07 percent complete\n",
            "02:18:15.79 57.19 percent complete\n",
            "02:18:34.46 57.32 percent complete\n",
            "02:18:53.15 57.44 percent complete\n",
            "02:19:11.55 57.57 percent complete\n",
            "02:19:29.43 57.70 percent complete\n",
            "02:19:47.81 57.82 percent complete\n",
            "02:20:05.82 57.95 percent complete\n",
            "02:20:23.74 58.08 percent complete\n",
            "02:20:42.73 58.20 percent complete\n",
            "02:21:01.20 58.33 percent complete\n",
            "02:21:19.38 58.45 percent complete\n",
            "02:21:37.95 58.58 percent complete\n",
            "02:21:56.78 58.71 percent complete\n",
            "02:22:14.46 58.83 percent complete\n",
            "02:22:32.90 58.96 percent complete\n",
            "02:22:50.99 59.09 percent complete\n",
            "02:23:09.38 59.21 percent complete\n",
            "02:23:27.74 59.34 percent complete\n",
            "02:23:46.13 59.46 percent complete\n"
          ],
          "name": "stdout"
        },
        {
          "output_type": "stream",
          "text": [
            "WARNING:root:Applied processor reduces input query to empty string, all comparisons will have score 0. [Query: '— ― ― ― ― ― ― ―']\n"
          ],
          "name": "stderr"
        },
        {
          "output_type": "stream",
          "text": [
            "02:24:04.49 59.59 percent complete\n",
            "02:24:23.45 59.72 percent complete\n",
            "02:24:41.83 59.84 percent complete\n",
            "02:24:59.95 59.97 percent complete\n",
            "02:25:18.12 60.10 percent complete\n",
            "02:25:36.83 60.22 percent complete\n",
            "02:25:55.70 60.35 percent complete\n",
            "02:26:13.94 60.47 percent complete\n",
            "02:26:32.21 60.60 percent complete\n",
            "02:26:50.83 60.73 percent complete\n",
            "02:27:09.13 60.85 percent complete\n",
            "02:27:26.57 60.98 percent complete\n",
            "02:27:45.01 61.11 percent complete\n",
            "02:28:03.29 61.23 percent complete\n",
            "02:28:21.60 61.36 percent complete\n",
            "02:28:39.73 61.48 percent complete\n",
            "02:28:58.26 61.61 percent complete\n",
            "02:29:16.97 61.74 percent complete\n",
            "02:29:35.42 61.86 percent complete\n",
            "02:29:53.92 61.99 percent complete\n"
          ],
          "name": "stdout"
        },
        {
          "output_type": "stream",
          "text": [
            "WARNING:root:Applied processor reduces input query to empty string, all comparisons will have score 0. [Query: '●']\n"
          ],
          "name": "stderr"
        },
        {
          "output_type": "stream",
          "text": [
            "02:30:12.10 62.12 percent complete\n",
            "02:30:30.69 62.24 percent complete\n",
            "02:30:49.54 62.37 percent complete\n",
            "02:31:07.55 62.49 percent complete\n",
            "02:31:26.06 62.62 percent complete\n",
            "02:31:45.09 62.75 percent complete\n",
            "02:32:03.63 62.87 percent complete\n",
            "02:32:22.35 63.00 percent complete\n",
            "02:32:40.79 63.13 percent complete\n",
            "02:32:58.94 63.25 percent complete\n",
            "02:33:17.32 63.38 percent complete\n",
            "02:33:36.80 63.50 percent complete\n",
            "02:33:54.42 63.63 percent complete\n",
            "02:34:13.00 63.76 percent complete\n",
            "02:34:31.95 63.88 percent complete\n",
            "02:34:50.72 64.01 percent complete\n",
            "02:35:08.84 64.14 percent complete\n",
            "02:35:27.01 64.26 percent complete\n"
          ],
          "name": "stdout"
        },
        {
          "output_type": "stream",
          "text": [
            "WARNING:root:Applied processor reduces input query to empty string, all comparisons will have score 0. [Query: '- - - - - - - - - - - - - - - - - - - - - - - - - - - - - - - - - - - - - - - - - - - - - - - - - - - - - - - - - - - - - - - - - -']\n"
          ],
          "name": "stderr"
        },
        {
          "output_type": "stream",
          "text": [
            "02:35:44.65 64.39 percent complete\n",
            "02:36:03.03 64.51 percent complete\n"
          ],
          "name": "stdout"
        },
        {
          "output_type": "stream",
          "text": [
            "WARNING:root:Applied processor reduces input query to empty string, all comparisons will have score 0. [Query: '↓ ↑']\n"
          ],
          "name": "stderr"
        },
        {
          "output_type": "stream",
          "text": [
            "02:36:21.10 64.64 percent complete\n",
            "02:36:39.41 64.77 percent complete\n",
            "02:36:57.59 64.89 percent complete\n",
            "02:37:15.07 65.02 percent complete\n",
            "02:37:32.83 65.15 percent complete\n",
            "02:37:50.77 65.27 percent complete\n",
            "02:38:07.73 65.40 percent complete\n",
            "02:38:25.38 65.52 percent complete\n",
            "02:38:44.25 65.65 percent complete\n",
            "02:39:02.33 65.78 percent complete\n",
            "02:39:20.31 65.90 percent complete\n",
            "02:39:38.82 66.03 percent complete\n",
            "02:39:57.42 66.16 percent complete\n",
            "02:40:15.64 66.28 percent complete\n",
            "02:40:34.11 66.41 percent complete\n",
            "02:40:52.17 66.53 percent complete\n",
            "02:41:10.34 66.66 percent complete\n",
            "02:41:29.19 66.79 percent complete\n",
            "02:41:47.32 66.91 percent complete\n",
            "02:42:05.59 67.04 percent complete\n",
            "02:42:23.62 67.17 percent complete\n",
            "02:42:42.28 67.29 percent complete\n",
            "02:43:00.80 67.42 percent complete\n",
            "02:43:18.28 67.54 percent complete\n",
            "02:43:36.47 67.67 percent complete\n",
            "02:43:55.61 67.80 percent complete\n",
            "02:44:13.83 67.92 percent complete\n",
            "02:44:31.81 68.05 percent complete\n",
            "02:44:50.07 68.18 percent complete\n",
            "02:45:07.57 68.30 percent complete\n",
            "02:45:25.80 68.43 percent complete\n",
            "02:45:43.83 68.55 percent complete\n",
            "02:46:02.04 68.68 percent complete\n",
            "02:46:19.70 68.81 percent complete\n",
            "02:46:38.19 68.93 percent complete\n",
            "02:46:56.34 69.06 percent complete\n",
            "02:47:14.42 69.19 percent complete\n",
            "02:47:32.93 69.31 percent complete\n",
            "02:47:51.19 69.44 percent complete\n",
            "02:48:09.05 69.56 percent complete\n"
          ],
          "name": "stdout"
        },
        {
          "output_type": "stream",
          "text": [
            "WARNING:root:Applied processor reduces input query to empty string, all comparisons will have score 0. [Query: '․ ․ ․']\n"
          ],
          "name": "stderr"
        },
        {
          "output_type": "stream",
          "text": [
            "02:48:27.04 69.69 percent complete\n",
            "02:48:44.80 69.82 percent complete\n",
            "02:49:03.40 69.94 percent complete\n",
            "02:49:21.55 70.07 percent complete\n",
            "02:49:39.76 70.20 percent complete\n",
            "02:49:57.71 70.32 percent complete\n",
            "02:50:15.72 70.45 percent complete\n",
            "02:50:34.68 70.57 percent complete\n",
            "02:50:53.20 70.70 percent complete\n",
            "02:51:11.28 70.83 percent complete\n",
            "02:51:29.77 70.95 percent complete\n",
            "02:51:48.00 71.08 percent complete\n",
            "02:52:05.98 71.21 percent complete\n",
            "02:52:24.07 71.33 percent complete\n",
            "02:52:42.52 71.46 percent complete\n",
            "02:53:00.69 71.58 percent complete\n",
            "02:53:18.79 71.71 percent complete\n",
            "02:53:37.42 71.84 percent complete\n",
            "02:53:56.24 71.96 percent complete\n",
            "02:54:14.67 72.09 percent complete\n",
            "02:54:32.49 72.22 percent complete\n",
            "02:54:50.67 72.34 percent complete\n",
            "02:55:08.66 72.47 percent complete\n",
            "02:55:27.20 72.59 percent complete\n",
            "02:55:45.92 72.72 percent complete\n",
            "02:56:04.09 72.85 percent complete\n",
            "02:56:22.66 72.97 percent complete\n",
            "02:56:41.12 73.10 percent complete\n",
            "02:56:59.38 73.23 percent complete\n",
            "02:57:17.85 73.35 percent complete\n",
            "02:57:36.14 73.48 percent complete\n",
            "02:57:53.81 73.60 percent complete\n",
            "02:58:12.18 73.73 percent complete\n",
            "02:58:30.74 73.86 percent complete\n",
            "02:58:49.12 73.98 percent complete\n",
            "02:59:07.79 74.11 percent complete\n",
            "02:59:26.47 74.24 percent complete\n",
            "02:59:45.78 74.36 percent complete\n",
            "03:00:04.06 74.49 percent complete\n",
            "03:00:22.33 74.61 percent complete\n",
            "03:00:40.84 74.74 percent complete\n",
            "03:00:59.14 74.87 percent complete\n",
            "03:01:17.07 74.99 percent complete\n",
            "03:01:35.86 75.12 percent complete\n",
            "03:01:54.58 75.25 percent complete\n",
            "03:02:13.56 75.37 percent complete\n",
            "03:02:32.47 75.50 percent complete\n",
            "03:02:51.23 75.62 percent complete\n",
            "03:03:09.03 75.75 percent complete\n",
            "03:03:27.37 75.88 percent complete\n",
            "03:03:45.58 76.00 percent complete\n",
            "03:04:03.78 76.13 percent complete\n",
            "03:04:22.06 76.26 percent complete\n",
            "03:04:40.79 76.38 percent complete\n",
            "03:04:59.11 76.51 percent complete\n"
          ],
          "name": "stdout"
        },
        {
          "output_type": "stream",
          "text": [
            "WARNING:root:Applied processor reduces input query to empty string, all comparisons will have score 0. [Query: '→']\n"
          ],
          "name": "stderr"
        },
        {
          "output_type": "stream",
          "text": [
            "03:05:16.83 76.63 percent complete\n",
            "03:05:35.27 76.76 percent complete\n",
            "03:05:53.67 76.89 percent complete\n",
            "03:06:12.39 77.01 percent complete\n",
            "03:06:30.77 77.14 percent complete\n",
            "03:06:48.72 77.27 percent complete\n",
            "03:07:06.81 77.39 percent complete\n",
            "03:07:24.74 77.52 percent complete\n",
            "03:07:42.87 77.64 percent complete\n",
            "03:08:01.24 77.77 percent complete\n",
            "03:08:19.07 77.90 percent complete\n",
            "03:08:38.10 78.02 percent complete\n",
            "03:08:56.50 78.15 percent complete\n",
            "03:09:14.79 78.28 percent complete\n",
            "03:09:33.18 78.40 percent complete\n",
            "03:09:52.12 78.53 percent complete\n",
            "03:10:10.23 78.65 percent complete\n",
            "03:10:28.14 78.78 percent complete\n",
            "03:10:46.57 78.91 percent complete\n",
            "03:11:04.83 79.03 percent complete\n",
            "03:11:22.86 79.16 percent complete\n",
            "03:11:41.38 79.29 percent complete\n",
            "03:11:59.66 79.41 percent complete\n",
            "03:12:18.06 79.54 percent complete\n",
            "03:12:36.72 79.66 percent complete\n",
            "03:12:54.78 79.79 percent complete\n",
            "03:13:12.84 79.92 percent complete\n",
            "03:13:31.36 80.04 percent complete\n",
            "03:13:50.07 80.17 percent complete\n",
            "03:14:07.68 80.30 percent complete\n",
            "03:14:25.77 80.42 percent complete\n",
            "03:14:43.82 80.55 percent complete\n",
            "03:15:02.45 80.67 percent complete\n",
            "03:15:20.97 80.80 percent complete\n"
          ],
          "name": "stdout"
        },
        {
          "output_type": "stream",
          "text": [
            "WARNING:root:Applied processor reduces input query to empty string, all comparisons will have score 0. [Query: '․ ․']\n"
          ],
          "name": "stderr"
        },
        {
          "output_type": "stream",
          "text": [
            "03:15:39.36 80.93 percent complete\n",
            "03:15:58.13 81.05 percent complete\n",
            "03:16:16.43 81.18 percent complete\n",
            "03:16:34.61 81.31 percent complete\n",
            "03:16:53.10 81.43 percent complete\n",
            "03:17:11.20 81.56 percent complete\n",
            "03:17:29.56 81.68 percent complete\n",
            "03:17:48.24 81.81 percent complete\n",
            "03:18:06.22 81.94 percent complete\n",
            "03:18:24.32 82.06 percent complete\n",
            "03:18:42.65 82.19 percent complete\n",
            "03:19:00.73 82.32 percent complete\n",
            "03:19:18.77 82.44 percent complete\n",
            "03:19:37.67 82.57 percent complete\n",
            "03:19:56.34 82.69 percent complete\n",
            "03:20:14.17 82.82 percent complete\n",
            "03:20:32.90 82.95 percent complete\n",
            "03:20:51.53 83.07 percent complete\n",
            "03:21:09.49 83.20 percent complete\n",
            "03:21:27.69 83.33 percent complete\n",
            "03:21:46.19 83.45 percent complete\n",
            "03:22:04.13 83.58 percent complete\n",
            "03:22:22.27 83.70 percent complete\n",
            "03:22:40.83 83.83 percent complete\n",
            "03:22:59.86 83.96 percent complete\n",
            "03:23:18.19 84.08 percent complete\n",
            "03:23:36.76 84.21 percent complete\n",
            "03:23:55.00 84.34 percent complete\n",
            "03:24:13.42 84.46 percent complete\n",
            "03:24:31.11 84.59 percent complete\n",
            "03:24:49.13 84.71 percent complete\n",
            "03:25:07.71 84.84 percent complete\n",
            "03:25:26.00 84.97 percent complete\n",
            "03:25:44.09 85.09 percent complete\n",
            "03:26:02.39 85.22 percent complete\n",
            "03:26:20.61 85.35 percent complete\n",
            "03:26:38.44 85.47 percent complete\n",
            "03:26:56.20 85.60 percent complete\n"
          ],
          "name": "stdout"
        },
        {
          "output_type": "stream",
          "text": [
            "WARNING:root:Applied processor reduces input query to empty string, all comparisons will have score 0. [Query: '” *']\n"
          ],
          "name": "stderr"
        },
        {
          "output_type": "stream",
          "text": [
            "03:27:14.59 85.72 percent complete\n",
            "03:27:32.88 85.85 percent complete\n",
            "03:27:51.27 85.98 percent complete\n",
            "03:28:09.32 86.10 percent complete\n"
          ],
          "name": "stdout"
        },
        {
          "output_type": "stream",
          "text": [
            "WARNING:root:Applied processor reduces input query to empty string, all comparisons will have score 0. [Query: '← ← ← ← ← ← ← ← ← ←']\n"
          ],
          "name": "stderr"
        },
        {
          "output_type": "stream",
          "text": [
            "03:28:27.87 86.23 percent complete\n",
            "03:28:45.90 86.36 percent complete\n",
            "03:29:04.25 86.48 percent complete\n",
            "03:29:22.24 86.61 percent complete\n",
            "03:29:40.38 86.73 percent complete\n",
            "03:29:58.83 86.86 percent complete\n",
            "03:30:16.88 86.99 percent complete\n",
            "03:30:35.07 87.11 percent complete\n",
            "03:30:54.09 87.24 percent complete\n",
            "03:31:11.99 87.37 percent complete\n",
            "03:31:29.91 87.49 percent complete\n",
            "03:31:47.80 87.62 percent complete\n",
            "03:32:05.70 87.74 percent complete\n",
            "03:32:23.91 87.87 percent complete\n",
            "03:32:42.28 88.00 percent complete\n",
            "03:33:00.62 88.12 percent complete\n",
            "03:33:18.49 88.25 percent complete\n",
            "03:33:36.64 88.38 percent complete\n",
            "03:33:54.61 88.50 percent complete\n",
            "03:34:12.63 88.63 percent complete\n",
            "03:34:30.96 88.75 percent complete\n",
            "03:34:49.25 88.88 percent complete\n",
            "03:35:07.86 89.01 percent complete\n",
            "03:35:26.65 89.13 percent complete\n",
            "03:35:45.36 89.26 percent complete\n",
            "03:36:03.59 89.39 percent complete\n",
            "03:36:21.08 89.51 percent complete\n",
            "03:36:39.09 89.64 percent complete\n",
            "03:36:57.04 89.76 percent complete\n",
            "03:37:14.77 89.89 percent complete\n",
            "03:37:32.94 90.02 percent complete\n",
            "03:37:50.85 90.14 percent complete\n",
            "03:38:08.87 90.27 percent complete\n",
            "03:38:26.71 90.40 percent complete\n",
            "03:38:44.79 90.52 percent complete\n",
            "03:39:02.66 90.65 percent complete\n"
          ],
          "name": "stdout"
        },
        {
          "output_type": "stream",
          "text": [
            "WARNING:root:Applied processor reduces input query to empty string, all comparisons will have score 0. [Query: '․ ․ ․ ․ ․ ․ ․ ․ ․ ․']\n"
          ],
          "name": "stderr"
        },
        {
          "output_type": "stream",
          "text": [
            "03:39:20.52 90.77 percent complete\n",
            "03:39:38.44 90.90 percent complete\n",
            "03:39:56.86 91.03 percent complete\n",
            "03:40:15.22 91.15 percent complete\n",
            "03:40:33.33 91.28 percent complete\n",
            "03:40:51.69 91.41 percent complete\n",
            "03:41:09.49 91.53 percent complete\n",
            "03:41:27.66 91.66 percent complete\n",
            "03:41:46.10 91.78 percent complete\n",
            "03:42:04.25 91.91 percent complete\n",
            "03:42:22.88 92.04 percent complete\n",
            "03:42:41.57 92.16 percent complete\n",
            "03:42:59.68 92.29 percent complete\n",
            "03:43:17.98 92.42 percent complete\n",
            "03:43:36.06 92.54 percent complete\n",
            "03:43:54.54 92.67 percent complete\n",
            "03:44:13.04 92.79 percent complete\n",
            "03:44:31.23 92.92 percent complete\n",
            "03:44:50.10 93.05 percent complete\n",
            "03:45:08.41 93.17 percent complete\n",
            "03:45:27.13 93.30 percent complete\n"
          ],
          "name": "stdout"
        },
        {
          "output_type": "stream",
          "text": [
            "WARNING:root:Applied processor reduces input query to empty string, all comparisons will have score 0. [Query: '$ $ $']\n"
          ],
          "name": "stderr"
        },
        {
          "output_type": "stream",
          "text": [
            "03:45:45.34 93.43 percent complete\n",
            "03:46:04.25 93.55 percent complete\n",
            "03:46:22.11 93.68 percent complete\n",
            "03:46:39.82 93.80 percent complete\n",
            "03:46:58.31 93.93 percent complete\n",
            "03:47:16.92 94.06 percent complete\n",
            "03:47:34.82 94.18 percent complete\n",
            "03:47:53.48 94.31 percent complete\n",
            "03:48:11.41 94.44 percent complete\n",
            "03:48:29.59 94.56 percent complete\n",
            "03:48:47.86 94.69 percent complete\n",
            "03:49:05.70 94.81 percent complete\n",
            "03:49:24.02 94.94 percent complete\n",
            "03:49:42.04 95.07 percent complete\n",
            "03:50:00.65 95.19 percent complete\n",
            "03:50:18.86 95.32 percent complete\n",
            "03:50:37.31 95.45 percent complete\n",
            "03:50:55.82 95.57 percent complete\n",
            "03:51:13.92 95.70 percent complete\n",
            "03:51:32.28 95.82 percent complete\n",
            "03:51:50.32 95.95 percent complete\n",
            "03:52:08.59 96.08 percent complete\n",
            "03:52:26.93 96.20 percent complete\n",
            "03:52:45.17 96.33 percent complete\n",
            "03:53:03.67 96.46 percent complete\n",
            "03:53:22.27 96.58 percent complete\n",
            "03:53:40.63 96.71 percent complete\n",
            "03:53:59.02 96.83 percent complete\n",
            "03:54:17.40 96.96 percent complete\n",
            "03:54:35.42 97.09 percent complete\n",
            "03:54:53.90 97.21 percent complete\n",
            "03:55:11.71 97.34 percent complete\n",
            "03:55:30.01 97.47 percent complete\n",
            "03:55:47.80 97.59 percent complete\n"
          ],
          "name": "stdout"
        },
        {
          "output_type": "stream",
          "text": [
            "WARNING:root:Applied processor reduces input query to empty string, all comparisons will have score 0. [Query: '* * *']\n",
            "WARNING:root:Applied processor reduces input query to empty string, all comparisons will have score 0. [Query: '․ ․ ․ ․ ․']\n"
          ],
          "name": "stderr"
        },
        {
          "output_type": "stream",
          "text": [
            "03:56:05.88 97.72 percent complete\n",
            "03:56:23.84 97.84 percent complete\n",
            "03:56:42.22 97.97 percent complete\n",
            "03:57:00.68 98.10 percent complete\n",
            "03:57:18.45 98.22 percent complete\n",
            "03:57:36.79 98.35 percent complete\n",
            "03:57:55.08 98.48 percent complete\n",
            "03:58:13.94 98.60 percent complete\n",
            "03:58:32.58 98.73 percent complete\n",
            "03:58:50.85 98.85 percent complete\n"
          ],
          "name": "stdout"
        },
        {
          "output_type": "stream",
          "text": [
            "WARNING:root:Applied processor reduces input query to empty string, all comparisons will have score 0. [Query: '$ ․ ․ ․ ․ ․']\n"
          ],
          "name": "stderr"
        },
        {
          "output_type": "stream",
          "text": [
            "03:59:09.34 98.98 percent complete\n",
            "03:59:28.37 99.11 percent complete\n",
            "03:59:46.59 99.23 percent complete\n",
            "04:00:04.88 99.36 percent complete\n",
            "04:00:22.93 99.49 percent complete\n",
            "04:00:41.14 99.61 percent complete\n",
            "04:00:59.34 99.74 percent complete\n",
            "04:01:17.44 99.86 percent complete\n",
            "04:01:35.66 99.99 percent complete\n"
          ],
          "name": "stdout"
        }
      ]
    },
    {
      "cell_type": "code",
      "metadata": {
        "colab_type": "code",
        "id": "hxxBOCA-xXhy",
        "colab": {
          "base_uri": "https://localhost:8080/",
          "height": 819
        },
        "outputId": "2f101d21-f906-4ea0-a275-e60c71572361"
      },
      "source": [
        "#TODO: Need not run for for retrain\n",
        "# This section does the split between train/dev for the parallel corpora then saves them as separate files\n",
        "# We use 1000 dev test and the given test set.\n",
        "import csv\n",
        "\n",
        "# Do the split between dev/train and create parallel corpora\n",
        "num_dev_patterns = 1000\n",
        "\n",
        "# Optional: lower case the corpora - this will make it easier to generalize, but without proper casing.\n",
        "if lc:  # Julia: making lowercasing optional\n",
        "    df_pp[\"source_sentence\"] = df_pp[\"source_sentence\"].str.lower()\n",
        "    df_pp[\"target_sentence\"] = df_pp[\"target_sentence\"].str.lower()\n",
        "\n",
        "# Julia: test sets are already generated\n",
        "dev = df_pp.tail(num_dev_patterns) # Herman: Error in original\n",
        "stripped = df_pp.drop(df_pp.tail(num_dev_patterns).index)\n",
        "\n",
        "with open(\"train.\"+source_language, \"w\") as src_file, open(\"train.\"+target_language, \"w\") as trg_file:\n",
        "  for index, row in stripped.iterrows():\n",
        "    src_file.write(row[\"source_sentence\"]+\"\\n\")\n",
        "    trg_file.write(row[\"target_sentence\"]+\"\\n\")\n",
        "    \n",
        "with open(\"dev.\"+source_language, \"w\") as src_file, open(\"dev.\"+target_language, \"w\") as trg_file:\n",
        "  for index, row in dev.iterrows():\n",
        "    src_file.write(row[\"source_sentence\"]+\"\\n\")\n",
        "    trg_file.write(row[\"target_sentence\"]+\"\\n\")\n",
        "\n",
        "#stripped[[\"source_sentence\"]].to_csv(\"train.\"+source_language, header=False, index=False)  # Herman: Added `header=False` everywhere\n",
        "#stripped[[\"target_sentence\"]].to_csv(\"train.\"+target_language, header=False, index=False)  # Julia: Problematic handling of quotation marks.\n",
        "\n",
        "#dev[[\"source_sentence\"]].to_csv(\"dev.\"+source_language, header=False, index=False)\n",
        "#dev[[\"target_sentence\"]].to_csv(\"dev.\"+target_language, header=False, index=False)\n",
        "\n",
        "# Doublecheck the format below. There should be no extra quotation marks or weird characters.\n",
        "! head train.*\n",
        "! head dev.*"
      ],
      "execution_count": 11,
      "outputs": [
        {
          "output_type": "stream",
          "text": [
            "==> train.en <==\n",
            "Not long after my baptism , I married one of Jehovah’s Witnesses .\n",
            "Yet , he could not take sole blame for the horrors to come .\n",
            "How do we gain the help of holy spirit ?\n",
            "Faith moved a prostitute to risk her life so as to protect two Israelite spies .\n",
            "At some points , this wall stood 165 feet ( 50 m ) high .\n",
            "He loved me dearly , something I failed to realize at the time .\n",
            "His sister , Christine Antisdel , who had recently become one of Jehovah’s Witnesses , offered to move in with him and help him care for his two very young children .\n",
            "However , they should contain not only requests but also expressions of faith .\n",
            "At that point , any interest I had in winning the approval of my schoolmates would fade away .\n",
            "Jesus ’ brothers now urge him : “ Pass on over from here and go into Judea . ”\n",
            "\n",
            "==> train.xh <==\n",
            "Kungekudala ndibhaptiziwe , ndatshata omnye wamaNgqina kaYehova .\n",
            "Kodwa ke , yayingenguye yedwa owabangela iziphendu ezaziza kulandela .\n",
            "Silufumana njani uncedo lomoya oyingcwele ?\n",
            "Ukholo lwabangela unongogo ukuba abeke ubomi bakhe esichengeni ukuze akhusele iintlola ezimbini ezingamaSirayeli .\n",
            "Ezi ndonga zaziphakeme ngeyona ndlela .\n",
            "Wayendithanda kakhulu , nto leyo ndandingayiqondi ngelo xesha .\n",
            "Udadewalo , uChristine Antisdel , owayesandul ’ ukuba liNgqina likaYehova waya kuhlala nalo , ukuze alincedise ekunyamekeleni abantwana balo ababini ababesebancinane kakhulu .\n",
            "Noko ke , imithandazo yethu ayifanele ibe zizicelo kuphela kodwa ifanele ibonise nokholo esinalo .\n",
            "Oko kwakuyiphelisa tu into yokufuna ukukholisa abantwana besikolo .\n",
            "Ngoku abantakwaboYesu bayambongoza besithi : “ Gqitha apha , uye kwelakwaYuda . ”\n",
            "==> dev.en <==\n",
            "I was moved to fill out an application for the full - time preaching work .\n",
            "While visiting Poland , Lucaris saw that the Orthodox there , priests and laity alike , were in a deplorable spiritual condition as a result of their lack of education .\n",
            "A Spanish proverb states it plainly : “ Better to walk single than be badly married . ” ​ — Proverbs 21 : 9 ; Ecclesiastes 5 : 2 .\n",
            "It is fundamental in forging and maintaining good relations with people and with God .\n",
            "What kind of faith pleases Jehovah ?\n",
            "In fact , the risk is higher because most people are buying for the first time , they are bereaved and they must act quickly . ”\n",
            "Such unpredictability can make your life an emotional seesaw .\n",
            "The work of the Masoretes continues to benefit us today .\n",
            "They are not interested in learning about Jehovah or in serving him .\n",
            "Their motive was to look holier than their fellow men . ​ — Matthew 23 : 5 ; Numbers 15 : 38 - 40 .\n",
            "\n",
            "==> dev.xh <==\n",
            "Ndashukunyiselwa ekubeni ndifake isicelo sokwenza umsebenzi wokushumayela wexesha elizeleyo .\n",
            "Xa wayetyelele ePoland , uLucaris waphawula ukuba amaOthodoki alapho , abefundisi kunye namarhamente ngokufanayo , ayekwimeko engentle ngokomoya ngenxa yokuba engafundanga .\n",
            "Iqhalo leSpanish likwenza kucace oku ngokuthi : “ Kulunge ngakumbi ukuhamba wedwa kunokutshata kakubi . ” — IMizekeliso 21 : 9 ; INtshumayeli 5 : 2 .\n",
            "Oko kubalulekile ukuba sifuna ukuba nolwalamano oluhle nabantu kunye noThixo .\n",
            "Lukholo olunjani olukholisa uYehova ?\n",
            "Enyanisweni , ingozi inkulu gqitha ngenxa yokuba inkoliso yabantu ithenga okwesihlandlo sokuqala , ifelwe ngumntu othandekayo yaye imele yenze izinto ngokukhawuleza . ”\n",
            "Ukungaqiniseki okunjalo kunokukubangela ungazinzi ngokweemvakalelo .\n",
            "Umsebenzi wamaMasorete uyaqhubeka usizisela iingenelo nanamhlanje .\n",
            "Kanye njengoyise , uSathana , abawexuki balwa nabantu abagcina ingqibelelo .\n",
            "Injongo yabo yayikukuba bakhangeleke bengcwele kunabanye abantu . — Mateyu 23 : 5 ; INumeri 15 : 38 - 40 .\n"
          ],
          "name": "stdout"
        }
      ]
    },
    {
      "cell_type": "markdown",
      "metadata": {
        "colab_type": "text",
        "id": "epeCydmCyS8X"
      },
      "source": [
        "\n",
        "\n",
        "---\n",
        "\n",
        "\n",
        "## Installation of JoeyNMT\n",
        "\n",
        "JoeyNMT is a simple, minimalist NMT package which is useful for learning and teaching. Check out the documentation for JoeyNMT [here](https://joeynmt.readthedocs.io)  "
      ]
    },
    {
      "cell_type": "code",
      "metadata": {
        "colab_type": "code",
        "id": "iBRMm4kMxZ8L",
        "colab": {
          "base_uri": "https://localhost:8080/",
          "height": 1000
        },
        "outputId": "e8abf52f-f40d-429a-c982-5aa986f89b92"
      },
      "source": [
        "# Install JoeyNMT\n",
        "! git clone https://github.com/joeynmt/joeynmt.git\n",
        "! cd joeynmt; pip3 install ."
      ],
      "execution_count": 12,
      "outputs": [
        {
          "output_type": "stream",
          "text": [
            "Cloning into 'joeynmt'...\n",
            "remote: Enumerating objects: 72, done.\u001b[K\n",
            "remote: Counting objects:   1% (1/72)\u001b[K\rremote: Counting objects:   2% (2/72)\u001b[K\rremote: Counting objects:   4% (3/72)\u001b[K\rremote: Counting objects:   5% (4/72)\u001b[K\rremote: Counting objects:   6% (5/72)\u001b[K\rremote: Counting objects:   8% (6/72)\u001b[K\rremote: Counting objects:   9% (7/72)\u001b[K\rremote: Counting objects:  11% (8/72)\u001b[K\rremote: Counting objects:  12% (9/72)\u001b[K\rremote: Counting objects:  13% (10/72)\u001b[K\rremote: Counting objects:  15% (11/72)\u001b[K\rremote: Counting objects:  16% (12/72)\u001b[K\rremote: Counting objects:  18% (13/72)\u001b[K\rremote: Counting objects:  19% (14/72)\u001b[K\rremote: Counting objects:  20% (15/72)\u001b[K\rremote: Counting objects:  22% (16/72)\u001b[K\rremote: Counting objects:  23% (17/72)\u001b[K\rremote: Counting objects:  25% (18/72)\u001b[K\rremote: Counting objects:  26% (19/72)\u001b[K\rremote: Counting objects:  27% (20/72)\u001b[K\rremote: Counting objects:  29% (21/72)\u001b[K\rremote: Counting objects:  30% (22/72)\u001b[K\rremote: Counting objects:  31% (23/72)\u001b[K\rremote: Counting objects:  33% (24/72)\u001b[K\rremote: Counting objects:  34% (25/72)\u001b[K\rremote: Counting objects:  36% (26/72)\u001b[K\rremote: Counting objects:  37% (27/72)\u001b[K\rremote: Counting objects:  38% (28/72)\u001b[K\rremote: Counting objects:  40% (29/72)\u001b[K\rremote: Counting objects:  41% (30/72)\u001b[K\rremote: Counting objects:  43% (31/72)\u001b[K\rremote: Counting objects:  44% (32/72)\u001b[K\rremote: Counting objects:  45% (33/72)\u001b[K\rremote: Counting objects:  47% (34/72)\u001b[K\rremote: Counting objects:  48% (35/72)\u001b[K\rremote: Counting objects:  50% (36/72)\u001b[K\rremote: Counting objects:  51% (37/72)\u001b[K\rremote: Counting objects:  52% (38/72)\u001b[K\rremote: Counting objects:  54% (39/72)\u001b[K\rremote: Counting objects:  55% (40/72)\u001b[K\rremote: Counting objects:  56% (41/72)\u001b[K\rremote: Counting objects:  58% (42/72)\u001b[K\rremote: Counting objects:  59% (43/72)\u001b[K\rremote: Counting objects:  61% (44/72)\u001b[K\rremote: Counting objects:  62% (45/72)\u001b[K\rremote: Counting objects:  63% (46/72)\u001b[K\rremote: Counting objects:  65% (47/72)\u001b[K\rremote: Counting objects:  66% (48/72)\u001b[K\rremote: Counting objects:  68% (49/72)\u001b[K\rremote: Counting objects:  69% (50/72)\u001b[K\rremote: Counting objects:  70% (51/72)\u001b[K\rremote: Counting objects:  72% (52/72)\u001b[K\rremote: Counting objects:  73% (53/72)\u001b[K\rremote: Counting objects:  75% (54/72)\u001b[K\rremote: Counting objects:  76% (55/72)\u001b[K\rremote: Counting objects:  77% (56/72)\u001b[K\rremote: Counting objects:  79% (57/72)\u001b[K\rremote: Counting objects:  80% (58/72)\u001b[K\rremote: Counting objects:  81% (59/72)\u001b[K\rremote: Counting objects:  83% (60/72)\u001b[K\rremote: Counting objects:  84% (61/72)\u001b[K\rremote: Counting objects:  86% (62/72)\u001b[K\rremote: Counting objects:  87% (63/72)\u001b[K\rremote: Counting objects:  88% (64/72)\u001b[K\rremote: Counting objects:  90% (65/72)\u001b[K\rremote: Counting objects:  91% (66/72)\u001b[K\rremote: Counting objects:  93% (67/72)\u001b[K\rremote: Counting objects:  94% (68/72)\u001b[K\rremote: Counting objects:  95% (69/72)\u001b[K\rremote: Counting objects:  97% (70/72)\u001b[K\rremote: Counting objects:  98% (71/72)\u001b[K\rremote: Counting objects: 100% (72/72)\u001b[K\rremote: Counting objects: 100% (72/72), done.\u001b[K\n",
            "remote: Compressing objects:   1% (1/54)\u001b[K\rremote: Compressing objects:   3% (2/54)\u001b[K\rremote: Compressing objects:   5% (3/54)\u001b[K\rremote: Compressing objects:   7% (4/54)\u001b[K\rremote: Compressing objects:   9% (5/54)\u001b[K\rremote: Compressing objects:  11% (6/54)\u001b[K\rremote: Compressing objects:  12% (7/54)\u001b[K\rremote: Compressing objects:  14% (8/54)\u001b[K\rremote: Compressing objects:  16% (9/54)\u001b[K\rremote: Compressing objects:  18% (10/54)\u001b[K\rremote: Compressing objects:  20% (11/54)\u001b[K\rremote: Compressing objects:  22% (12/54)\u001b[K\rremote: Compressing objects:  24% (13/54)\u001b[K\rremote: Compressing objects:  25% (14/54)\u001b[K\rremote: Compressing objects:  27% (15/54)\u001b[K\rremote: Compressing objects:  29% (16/54)\u001b[K\rremote: Compressing objects:  31% (17/54)\u001b[K\rremote: Compressing objects:  33% (18/54)\u001b[K\rremote: Compressing objects:  35% (19/54)\u001b[K\rremote: Compressing objects:  37% (20/54)\u001b[K\rremote: Compressing objects:  38% (21/54)\u001b[K\rremote: Compressing objects:  40% (22/54)\u001b[K\rremote: Compressing objects:  42% (23/54)\u001b[K\rremote: Compressing objects:  44% (24/54)\u001b[K\rremote: Compressing objects:  46% (25/54)\u001b[K\rremote: Compressing objects:  48% (26/54)\u001b[K\rremote: Compressing objects:  50% (27/54)\u001b[K\rremote: Compressing objects:  51% (28/54)\u001b[K\rremote: Compressing objects:  53% (29/54)\u001b[K\rremote: Compressing objects:  55% (30/54)\u001b[K\rremote: Compressing objects:  57% (31/54)\u001b[K\rremote: Compressing objects:  59% (32/54)\u001b[K\rremote: Compressing objects:  61% (33/54)\u001b[K\rremote: Compressing objects:  62% (34/54)\u001b[K\rremote: Compressing objects:  64% (35/54)\u001b[K\rremote: Compressing objects:  66% (36/54)\u001b[K\rremote: Compressing objects:  68% (37/54)\u001b[K\rremote: Compressing objects:  70% (38/54)\u001b[K\rremote: Compressing objects:  72% (39/54)\u001b[K\rremote: Compressing objects:  74% (40/54)\u001b[K\rremote: Compressing objects:  75% (41/54)\u001b[K\rremote: Compressing objects:  77% (42/54)\u001b[K\rremote: Compressing objects:  79% (43/54)\u001b[K\rremote: Compressing objects:  81% (44/54)\u001b[K\rremote: Compressing objects:  83% (45/54)\u001b[K\rremote: Compressing objects:  85% (46/54)\u001b[K\rremote: Compressing objects:  87% (47/54)\u001b[K\rremote: Compressing objects:  88% (48/54)\u001b[K\rremote: Compressing objects:  90% (49/54)\u001b[K\rremote: Compressing objects:  92% (50/54)\u001b[K\rremote: Compressing objects:  94% (51/54)\u001b[K\rremote: Compressing objects:  96% (52/54)\u001b[K\rremote: Compressing objects:  98% (53/54)\u001b[K\rremote: Compressing objects: 100% (54/54)\u001b[K\rremote: Compressing objects: 100% (54/54), done.\u001b[K\n",
            "Receiving objects:   0% (1/2256)   \rReceiving objects:   1% (23/2256)   \rReceiving objects:   2% (46/2256)   \rReceiving objects:   3% (68/2256)   \rReceiving objects:   4% (91/2256)   \rReceiving objects:   5% (113/2256)   \rReceiving objects:   6% (136/2256)   \rReceiving objects:   7% (158/2256)   \rReceiving objects:   8% (181/2256)   \rReceiving objects:   9% (204/2256)   \rReceiving objects:  10% (226/2256)   \rReceiving objects:  11% (249/2256)   \rReceiving objects:  12% (271/2256)   \rReceiving objects:  13% (294/2256)   \rReceiving objects:  14% (316/2256)   \rReceiving objects:  15% (339/2256)   \rReceiving objects:  16% (361/2256)   \rReceiving objects:  17% (384/2256)   \rReceiving objects:  18% (407/2256)   \rReceiving objects:  19% (429/2256)   \rReceiving objects:  20% (452/2256)   \rReceiving objects:  21% (474/2256)   \rReceiving objects:  22% (497/2256)   \rReceiving objects:  23% (519/2256)   \rReceiving objects:  24% (542/2256)   \rReceiving objects:  24% (546/2256), 1012.01 KiB | 918.00 KiB/s   \rReceiving objects:  25% (564/2256), 1012.01 KiB | 918.00 KiB/s   \rReceiving objects:  26% (587/2256), 1012.01 KiB | 918.00 KiB/s   \rReceiving objects:  27% (610/2256), 1012.01 KiB | 918.00 KiB/s   \rReceiving objects:  28% (632/2256), 1012.01 KiB | 918.00 KiB/s   \rReceiving objects:  29% (655/2256), 1012.01 KiB | 918.00 KiB/s   \rReceiving objects:  30% (677/2256), 1012.01 KiB | 918.00 KiB/s   \rReceiving objects:  31% (700/2256), 1012.01 KiB | 918.00 KiB/s   \rReceiving objects:  32% (722/2256), 1012.01 KiB | 918.00 KiB/s   \rReceiving objects:  33% (745/2256), 1012.01 KiB | 918.00 KiB/s   \rReceiving objects:  34% (768/2256), 1012.01 KiB | 918.00 KiB/s   \rReceiving objects:  35% (790/2256), 1012.01 KiB | 918.00 KiB/s   \rReceiving objects:  36% (813/2256), 1012.01 KiB | 918.00 KiB/s   \rReceiving objects:  37% (835/2256), 1012.01 KiB | 918.00 KiB/s   \rReceiving objects:  38% (858/2256), 1012.01 KiB | 918.00 KiB/s   \rReceiving objects:  39% (880/2256), 1012.01 KiB | 918.00 KiB/s   \rReceiving objects:  40% (903/2256), 1012.01 KiB | 918.00 KiB/s   \rReceiving objects:  41% (925/2256), 1012.01 KiB | 918.00 KiB/s   \rReceiving objects:  42% (948/2256), 1012.01 KiB | 918.00 KiB/s   \rReceiving objects:  43% (971/2256), 1012.01 KiB | 918.00 KiB/s   \rReceiving objects:  44% (993/2256), 1012.01 KiB | 918.00 KiB/s   \rReceiving objects:  45% (1016/2256), 1012.01 KiB | 918.00 KiB/s   \rReceiving objects:  46% (1038/2256), 1012.01 KiB | 918.00 KiB/s   \rReceiving objects:  47% (1061/2256), 1012.01 KiB | 918.00 KiB/s   \rReceiving objects:  48% (1083/2256), 1012.01 KiB | 918.00 KiB/s   \rReceiving objects:  49% (1106/2256), 1012.01 KiB | 918.00 KiB/s   \rReceiving objects:  50% (1128/2256), 1012.01 KiB | 918.00 KiB/s   \rReceiving objects:  51% (1151/2256), 1012.01 KiB | 918.00 KiB/s   \rReceiving objects:  52% (1174/2256), 1012.01 KiB | 918.00 KiB/s   \rReceiving objects:  53% (1196/2256), 1012.01 KiB | 918.00 KiB/s   \rReceiving objects:  54% (1219/2256), 1012.01 KiB | 918.00 KiB/s   \rReceiving objects:  55% (1241/2256), 1012.01 KiB | 918.00 KiB/s   \rReceiving objects:  56% (1264/2256), 1012.01 KiB | 918.00 KiB/s   \rReceiving objects:  57% (1286/2256), 1012.01 KiB | 918.00 KiB/s   \rReceiving objects:  58% (1309/2256), 1012.01 KiB | 918.00 KiB/s   \rReceiving objects:  59% (1332/2256), 1012.01 KiB | 918.00 KiB/s   \rReceiving objects:  60% (1354/2256), 1012.01 KiB | 918.00 KiB/s   \rReceiving objects:  61% (1377/2256), 1012.01 KiB | 918.00 KiB/s   \rReceiving objects:  62% (1399/2256), 1012.01 KiB | 918.00 KiB/s   \rReceiving objects:  63% (1422/2256), 1012.01 KiB | 918.00 KiB/s   \rReceiving objects:  64% (1444/2256), 1012.01 KiB | 918.00 KiB/s   \rReceiving objects:  65% (1467/2256), 1012.01 KiB | 918.00 KiB/s   \rReceiving objects:  66% (1489/2256), 1012.01 KiB | 918.00 KiB/s   \rReceiving objects:  67% (1512/2256), 1012.01 KiB | 918.00 KiB/s   \rReceiving objects:  68% (1535/2256), 1012.01 KiB | 918.00 KiB/s   \rReceiving objects:  69% (1557/2256), 1012.01 KiB | 918.00 KiB/s   \rReceiving objects:  70% (1580/2256), 1012.01 KiB | 918.00 KiB/s   \rReceiving objects:  71% (1602/2256), 1012.01 KiB | 918.00 KiB/s   \rReceiving objects:  72% (1625/2256), 1012.01 KiB | 918.00 KiB/s   \rReceiving objects:  73% (1647/2256), 1012.01 KiB | 918.00 KiB/s   \rReceiving objects:  74% (1670/2256), 1012.01 KiB | 918.00 KiB/s   \rReceiving objects:  75% (1692/2256), 1012.01 KiB | 918.00 KiB/s   \rReceiving objects:  76% (1715/2256), 1012.01 KiB | 918.00 KiB/s   \rReceiving objects:  77% (1738/2256), 1012.01 KiB | 918.00 KiB/s   \rReceiving objects:  78% (1760/2256), 1012.01 KiB | 918.00 KiB/s   \rReceiving objects:  79% (1783/2256), 1012.01 KiB | 918.00 KiB/s   \rReceiving objects:  80% (1805/2256), 1012.01 KiB | 918.00 KiB/s   \rReceiving objects:  81% (1828/2256), 1012.01 KiB | 918.00 KiB/s   \rReceiving objects:  82% (1850/2256), 1012.01 KiB | 918.00 KiB/s   \rReceiving objects:  83% (1873/2256), 1012.01 KiB | 918.00 KiB/s   \rReceiving objects:  84% (1896/2256), 1012.01 KiB | 918.00 KiB/s   \rReceiving objects:  85% (1918/2256), 1012.01 KiB | 918.00 KiB/s   \rReceiving objects:  86% (1941/2256), 1012.01 KiB | 918.00 KiB/s   \rReceiving objects:  87% (1963/2256), 1012.01 KiB | 918.00 KiB/s   \rremote: Total 2256 (delta 43), reused 32 (delta 18), pack-reused 2184\u001b[K\n",
            "Receiving objects:  88% (1986/2256), 1012.01 KiB | 918.00 KiB/s   \rReceiving objects:  89% (2008/2256), 1012.01 KiB | 918.00 KiB/s   \rReceiving objects:  90% (2031/2256), 1012.01 KiB | 918.00 KiB/s   \rReceiving objects:  91% (2053/2256), 1012.01 KiB | 918.00 KiB/s   \rReceiving objects:  92% (2076/2256), 1012.01 KiB | 918.00 KiB/s   \rReceiving objects:  93% (2099/2256), 1012.01 KiB | 918.00 KiB/s   \rReceiving objects:  94% (2121/2256), 1012.01 KiB | 918.00 KiB/s   \rReceiving objects:  95% (2144/2256), 1012.01 KiB | 918.00 KiB/s   \rReceiving objects:  96% (2166/2256), 1012.01 KiB | 918.00 KiB/s   \rReceiving objects:  97% (2189/2256), 1012.01 KiB | 918.00 KiB/s   \rReceiving objects:  98% (2211/2256), 1012.01 KiB | 918.00 KiB/s   \rReceiving objects:  99% (2234/2256), 1012.01 KiB | 918.00 KiB/s   \rReceiving objects: 100% (2256/2256), 1012.01 KiB | 918.00 KiB/s   \rReceiving objects: 100% (2256/2256), 2.63 MiB | 1.94 MiB/s, done.\n",
            "Resolving deltas: 100% (1564/1564), done.\n",
            "Processing /content/joeynmt\n",
            "Requirement already satisfied: future in /usr/local/lib/python3.6/dist-packages (from joeynmt==0.0.1) (0.16.0)\n",
            "Requirement already satisfied: pillow in /usr/local/lib/python3.6/dist-packages (from joeynmt==0.0.1) (6.2.2)\n",
            "Requirement already satisfied: numpy<2.0,>=1.14.5 in /usr/local/lib/python3.6/dist-packages (from joeynmt==0.0.1) (1.17.5)\n",
            "Requirement already satisfied: setuptools>=41.0.0 in /usr/local/lib/python3.6/dist-packages (from joeynmt==0.0.1) (42.0.2)\n",
            "Requirement already satisfied: torch>=1.1 in /usr/local/lib/python3.6/dist-packages (from joeynmt==0.0.1) (1.3.1)\n",
            "Requirement already satisfied: tensorflow>=1.14 in /usr/local/lib/python3.6/dist-packages (from joeynmt==0.0.1) (1.15.0)\n",
            "Requirement already satisfied: torchtext in /usr/local/lib/python3.6/dist-packages (from joeynmt==0.0.1) (0.3.1)\n",
            "Collecting sacrebleu>=1.3.6\n",
            "  Downloading https://files.pythonhosted.org/packages/45/31/1a135b964c169984b27fb2f7a50280fa7f8e6d9d404d8a9e596180487fd1/sacrebleu-1.4.3-py3-none-any.whl\n",
            "Collecting subword-nmt\n",
            "  Downloading https://files.pythonhosted.org/packages/74/60/6600a7bc09e7ab38bc53a48a20d8cae49b837f93f5842a41fe513a694912/subword_nmt-0.3.7-py2.py3-none-any.whl\n",
            "Requirement already satisfied: matplotlib in /usr/local/lib/python3.6/dist-packages (from joeynmt==0.0.1) (3.1.2)\n",
            "Requirement already satisfied: seaborn in /usr/local/lib/python3.6/dist-packages (from joeynmt==0.0.1) (0.9.0)\n",
            "Collecting pyyaml>=5.1\n",
            "\u001b[?25l  Downloading https://files.pythonhosted.org/packages/3d/d9/ea9816aea31beeadccd03f1f8b625ecf8f645bd66744484d162d84803ce5/PyYAML-5.3.tar.gz (268kB)\n",
            "\u001b[K     |████████████████████████████████| 276kB 40.8MB/s \n",
            "\u001b[?25hCollecting pylint\n",
            "\u001b[?25l  Downloading https://files.pythonhosted.org/packages/e9/59/43fc36c5ee316bb9aeb7cf5329cdbdca89e5749c34d5602753827c0aa2dc/pylint-2.4.4-py3-none-any.whl (302kB)\n",
            "\u001b[K     |████████████████████████████████| 307kB 49.1MB/s \n",
            "\u001b[?25hRequirement already satisfied: six==1.12 in /usr/local/lib/python3.6/dist-packages (from joeynmt==0.0.1) (1.12.0)\n",
            "Requirement already satisfied: termcolor>=1.1.0 in /usr/local/lib/python3.6/dist-packages (from tensorflow>=1.14->joeynmt==0.0.1) (1.1.0)\n",
            "Requirement already satisfied: absl-py>=0.7.0 in /usr/local/lib/python3.6/dist-packages (from tensorflow>=1.14->joeynmt==0.0.1) (0.9.0)\n",
            "Requirement already satisfied: protobuf>=3.6.1 in /usr/local/lib/python3.6/dist-packages (from tensorflow>=1.14->joeynmt==0.0.1) (3.10.0)\n",
            "Requirement already satisfied: google-pasta>=0.1.6 in /usr/local/lib/python3.6/dist-packages (from tensorflow>=1.14->joeynmt==0.0.1) (0.1.8)\n",
            "Requirement already satisfied: wheel>=0.26 in /usr/local/lib/python3.6/dist-packages (from tensorflow>=1.14->joeynmt==0.0.1) (0.33.6)\n",
            "Requirement already satisfied: keras-applications>=1.0.8 in /usr/local/lib/python3.6/dist-packages (from tensorflow>=1.14->joeynmt==0.0.1) (1.0.8)\n",
            "Requirement already satisfied: grpcio>=1.8.6 in /usr/local/lib/python3.6/dist-packages (from tensorflow>=1.14->joeynmt==0.0.1) (1.15.0)\n",
            "Requirement already satisfied: wrapt>=1.11.1 in /usr/local/lib/python3.6/dist-packages (from tensorflow>=1.14->joeynmt==0.0.1) (1.11.2)\n",
            "Requirement already satisfied: keras-preprocessing>=1.0.5 in /usr/local/lib/python3.6/dist-packages (from tensorflow>=1.14->joeynmt==0.0.1) (1.1.0)\n",
            "Requirement already satisfied: opt-einsum>=2.3.2 in /usr/local/lib/python3.6/dist-packages (from tensorflow>=1.14->joeynmt==0.0.1) (3.1.0)\n",
            "Requirement already satisfied: tensorflow-estimator==1.15.1 in /usr/local/lib/python3.6/dist-packages (from tensorflow>=1.14->joeynmt==0.0.1) (1.15.1)\n",
            "Requirement already satisfied: tensorboard<1.16.0,>=1.15.0 in /usr/local/lib/python3.6/dist-packages (from tensorflow>=1.14->joeynmt==0.0.1) (1.15.0)\n",
            "Requirement already satisfied: astor>=0.6.0 in /usr/local/lib/python3.6/dist-packages (from tensorflow>=1.14->joeynmt==0.0.1) (0.8.1)\n",
            "Requirement already satisfied: gast==0.2.2 in /usr/local/lib/python3.6/dist-packages (from tensorflow>=1.14->joeynmt==0.0.1) (0.2.2)\n",
            "Requirement already satisfied: requests in /usr/local/lib/python3.6/dist-packages (from torchtext->joeynmt==0.0.1) (2.21.0)\n",
            "Requirement already satisfied: tqdm in /usr/local/lib/python3.6/dist-packages (from torchtext->joeynmt==0.0.1) (4.28.1)\n",
            "Requirement already satisfied: typing in /usr/local/lib/python3.6/dist-packages (from sacrebleu>=1.3.6->joeynmt==0.0.1) (3.6.6)\n",
            "Collecting portalocker\n",
            "  Downloading https://files.pythonhosted.org/packages/91/db/7bc703c0760df726839e0699b7f78a4d8217fdc9c7fcb1b51b39c5a22a4e/portalocker-1.5.2-py2.py3-none-any.whl\n",
            "Requirement already satisfied: pyparsing!=2.0.4,!=2.1.2,!=2.1.6,>=2.0.1 in /usr/local/lib/python3.6/dist-packages (from matplotlib->joeynmt==0.0.1) (2.4.6)\n",
            "Requirement already satisfied: python-dateutil>=2.1 in /usr/local/lib/python3.6/dist-packages (from matplotlib->joeynmt==0.0.1) (2.6.1)\n",
            "Requirement already satisfied: kiwisolver>=1.0.1 in /usr/local/lib/python3.6/dist-packages (from matplotlib->joeynmt==0.0.1) (1.1.0)\n",
            "Requirement already satisfied: cycler>=0.10 in /usr/local/lib/python3.6/dist-packages (from matplotlib->joeynmt==0.0.1) (0.10.0)\n",
            "Requirement already satisfied: pandas>=0.15.2 in /usr/local/lib/python3.6/dist-packages (from seaborn->joeynmt==0.0.1) (0.25.3)\n",
            "Requirement already satisfied: scipy>=0.14.0 in /usr/local/lib/python3.6/dist-packages (from seaborn->joeynmt==0.0.1) (1.4.1)\n",
            "Collecting mccabe<0.7,>=0.6\n",
            "  Downloading https://files.pythonhosted.org/packages/87/89/479dc97e18549e21354893e4ee4ef36db1d237534982482c3681ee6e7b57/mccabe-0.6.1-py2.py3-none-any.whl\n",
            "Collecting isort<5,>=4.2.5\n",
            "\u001b[?25l  Downloading https://files.pythonhosted.org/packages/e5/b0/c121fd1fa3419ea9bfd55c7f9c4fedfec5143208d8c7ad3ce3db6c623c21/isort-4.3.21-py2.py3-none-any.whl (42kB)\n",
            "\u001b[K     |████████████████████████████████| 51kB 9.0MB/s \n",
            "\u001b[?25hCollecting astroid<2.4,>=2.3.0\n",
            "\u001b[?25l  Downloading https://files.pythonhosted.org/packages/ad/ae/86734823047962e7b8c8529186a1ac4a7ca19aaf1aa0c7713c022ef593fd/astroid-2.3.3-py3-none-any.whl (205kB)\n",
            "\u001b[K     |████████████████████████████████| 215kB 56.2MB/s \n",
            "\u001b[?25hRequirement already satisfied: h5py in /usr/local/lib/python3.6/dist-packages (from keras-applications>=1.0.8->tensorflow>=1.14->joeynmt==0.0.1) (2.8.0)\n",
            "Requirement already satisfied: werkzeug>=0.11.15 in /usr/local/lib/python3.6/dist-packages (from tensorboard<1.16.0,>=1.15.0->tensorflow>=1.14->joeynmt==0.0.1) (0.16.0)\n",
            "Requirement already satisfied: markdown>=2.6.8 in /usr/local/lib/python3.6/dist-packages (from tensorboard<1.16.0,>=1.15.0->tensorflow>=1.14->joeynmt==0.0.1) (3.1.1)\n",
            "Requirement already satisfied: certifi>=2017.4.17 in /usr/local/lib/python3.6/dist-packages (from requests->torchtext->joeynmt==0.0.1) (2019.11.28)\n",
            "Requirement already satisfied: idna<2.9,>=2.5 in /usr/local/lib/python3.6/dist-packages (from requests->torchtext->joeynmt==0.0.1) (2.8)\n",
            "Requirement already satisfied: chardet<3.1.0,>=3.0.2 in /usr/local/lib/python3.6/dist-packages (from requests->torchtext->joeynmt==0.0.1) (3.0.4)\n",
            "Requirement already satisfied: urllib3<1.25,>=1.21.1 in /usr/local/lib/python3.6/dist-packages (from requests->torchtext->joeynmt==0.0.1) (1.24.3)\n",
            "Requirement already satisfied: pytz>=2017.2 in /usr/local/lib/python3.6/dist-packages (from pandas>=0.15.2->seaborn->joeynmt==0.0.1) (2018.9)\n",
            "Collecting typed-ast<1.5,>=1.4.0; implementation_name == \"cpython\" and python_version < \"3.8\"\n",
            "\u001b[?25l  Downloading https://files.pythonhosted.org/packages/90/ed/5459080d95eb87a02fe860d447197be63b6e2b5e9ff73c2b0a85622994f4/typed_ast-1.4.1-cp36-cp36m-manylinux1_x86_64.whl (737kB)\n",
            "\u001b[K     |████████████████████████████████| 747kB 58kB/s \n",
            "\u001b[?25hCollecting lazy-object-proxy==1.4.*\n",
            "\u001b[?25l  Downloading https://files.pythonhosted.org/packages/0b/dd/b1e3407e9e6913cf178e506cd0dee818e58694d9a5cd1984e3f6a8b9a10f/lazy_object_proxy-1.4.3-cp36-cp36m-manylinux1_x86_64.whl (55kB)\n",
            "\u001b[K     |████████████████████████████████| 61kB 10.1MB/s \n",
            "\u001b[?25hBuilding wheels for collected packages: joeynmt, pyyaml\n",
            "  Building wheel for joeynmt (setup.py) ... \u001b[?25l\u001b[?25hdone\n",
            "  Created wheel for joeynmt: filename=joeynmt-0.0.1-cp36-none-any.whl size=72567 sha256=5f622310d02f497ec2997f69ee681768c4e004faad455eeb405c09f5f9b2f82b\n",
            "  Stored in directory: /tmp/pip-ephem-wheel-cache-k6vjzzhq/wheels/db/01/db/751cc9f3e7f6faec127c43644ba250a3ea7ad200594aeda70a\n",
            "  Building wheel for pyyaml (setup.py) ... \u001b[?25l\u001b[?25hdone\n",
            "  Created wheel for pyyaml: filename=PyYAML-5.3-cp36-cp36m-linux_x86_64.whl size=44229 sha256=82b81abfcdd0db118026cde12a1c3db20ce3be83688da368d82517c4c38dd62c\n",
            "  Stored in directory: /root/.cache/pip/wheels/e4/76/4d/a95b8dd7b452b69e8ed4f68b69e1b55e12c9c9624dd962b191\n",
            "Successfully built joeynmt pyyaml\n",
            "Installing collected packages: portalocker, sacrebleu, subword-nmt, pyyaml, mccabe, isort, typed-ast, lazy-object-proxy, astroid, pylint, joeynmt\n",
            "  Found existing installation: PyYAML 3.13\n",
            "    Uninstalling PyYAML-3.13:\n",
            "      Successfully uninstalled PyYAML-3.13\n",
            "Successfully installed astroid-2.3.3 isort-4.3.21 joeynmt-0.0.1 lazy-object-proxy-1.4.3 mccabe-0.6.1 portalocker-1.5.2 pylint-2.4.4 pyyaml-5.3 sacrebleu-1.4.3 subword-nmt-0.3.7 typed-ast-1.4.1\n"
          ],
          "name": "stdout"
        }
      ]
    },
    {
      "cell_type": "markdown",
      "metadata": {
        "colab_type": "text",
        "id": "AaE77Tcppex9"
      },
      "source": [
        "# Preprocessing the Data into Subword BPE Tokens\n",
        "\n",
        "- One of the most powerful improvements for agglutinative languages (a feature of most Bantu languages) is using BPE tokenization [ (Sennrich, 2015) ](https://arxiv.org/abs/1508.07909).\n",
        "\n",
        "- It was also shown that by optimizing the umber of BPE codes we significantly improve results for low-resourced languages [(Sennrich, 2019)](https://www.aclweb.org/anthology/P19-1021) [(Martinus, 2019)](https://arxiv.org/abs/1906.05685)\n",
        "\n",
        "- Below we have the scripts for doing BPE tokenization of our data. We use 4000 tokens as recommended by [(Sennrich, 2019)](https://www.aclweb.org/anthology/P19-1021). You do not need to change anything. Simply running the below will be suitable. "
      ]
    },
    {
      "cell_type": "code",
      "metadata": {
        "colab_type": "code",
        "id": "H-TyjtmXB1mL",
        "colab": {
          "base_uri": "https://localhost:8080/",
          "height": 428
        },
        "outputId": "0f67d86a-f355-454e-81ec-dc1ba573a98e"
      },
      "source": [
        "#TODO: Need not run for for retrain\n",
        "# One of the huge boosts in NMT performance was to use a different method of tokenizing. \n",
        "# Usually, NMT would tokenize by words. However, using a method called BPE gave amazing boosts to performance\n",
        "\n",
        "# Do subword NMT\n",
        "from os import path\n",
        "os.environ[\"src\"] = source_language # Sets them in bash as well, since we often use bash scripts\n",
        "os.environ[\"tgt\"] = target_language\n",
        "\n",
        "# Learn BPEs on the training data.\n",
        "os.environ[\"data_path\"] = path.join(\"joeynmt\", \"data\", source_language + target_language) # Herman! \n",
        "! subword-nmt learn-joint-bpe-and-vocab --input train.$src train.$tgt -s 4000 -o bpe.codes.4000 --write-vocabulary vocab.$src vocab.$tgt\n",
        "\n",
        "# Apply BPE splits to the development and test data.\n",
        "! subword-nmt apply-bpe -c bpe.codes.4000 --vocabulary vocab.$src < train.$src > train.bpe.$src\n",
        "! subword-nmt apply-bpe -c bpe.codes.4000 --vocabulary vocab.$tgt < train.$tgt > train.bpe.$tgt\n",
        "\n",
        "! subword-nmt apply-bpe -c bpe.codes.4000 --vocabulary vocab.$src < dev.$src > dev.bpe.$src\n",
        "! subword-nmt apply-bpe -c bpe.codes.4000 --vocabulary vocab.$tgt < dev.$tgt > dev.bpe.$tgt\n",
        "! subword-nmt apply-bpe -c bpe.codes.4000 --vocabulary vocab.$src < test.$src > test.bpe.$src\n",
        "! subword-nmt apply-bpe -c bpe.codes.4000 --vocabulary vocab.$tgt < test.$tgt > test.bpe.$tgt\n",
        "\n",
        "# Create directory, move everyone we care about to the correct location\n",
        "! mkdir -p $data_path\n",
        "! cp train.* $data_path\n",
        "! cp test.* $data_path\n",
        "! cp dev.* $data_path\n",
        "! cp bpe.codes.4000 $data_path\n",
        "! ls $data_path\n",
        "\n",
        "# Also move everything we care about to a mounted location in google drive (relevant if running in colab) at gdrive_path\n",
        "! cp train.* \"$gdrive_path\"\n",
        "! cp test.* \"$gdrive_path\"\n",
        "! cp dev.* \"$gdrive_path\"\n",
        "! cp bpe.codes.4000 \"$gdrive_path\"\n",
        "! ls \"$gdrive_path\"\n",
        "\n",
        "# Create that vocab using build_vocab\n",
        "! sudo chmod 777 joeynmt/scripts/build_vocab.py\n",
        "! joeynmt/scripts/build_vocab.py joeynmt/data/$src$tgt/train.bpe.$src joeynmt/data/$src$tgt/train.bpe.$tgt --output_path \"$gdrive_path/vocab.txt\"\n",
        "\n",
        "# Some output\n",
        "! echo \"BPE Xhosa Sentences\"\n",
        "! tail -n 5 test.bpe.$tgt\n",
        "! echo \"Combined BPE Vocab\"\n",
        "! tail -n 10 \"$gdrive_path/vocab.txt\"  # Herman"
      ],
      "execution_count": 25,
      "outputs": [
        {
          "output_type": "stream",
          "text": [
            "bpe.codes.4000\tdev.en\t     test.bpe.xh     test.xh\t   train.en\n",
            "dev.bpe.en\tdev.xh\t     test.en\t     train.bpe.en  train.xh\n",
            "dev.bpe.xh\ttest.bpe.en  test.en-any.en  train.bpe.xh  vocab.txt\n",
            "bpe.codes.4000\tdev.en\t     test.bpe.xh     test.xh\t   train.en\n",
            "dev.bpe.en\tdev.xh\t     test.en\t     train.bpe.en  train.xh\n",
            "dev.bpe.xh\ttest.bpe.en  test.en-any.en  train.bpe.xh\n",
            "BPE Xhosa Sentences\n",
            "Oku kwa@@ ph@@ umela ekubeni nd@@ id@@ ume njengom@@ ntu ong@@ any@@ anis@@ ekanga .\n",
            "Xa nd@@ afunda inyaniso , and@@ izange nd@@ iph@@ inde nd@@ iv@@ ume ukuq@@ hubeka ndis@@ enza oko , naku@@ beni ndand@@ ihl@@ awul@@ wa um@@ v@@ uzo on@@ c@@ um@@ isayo .\n",
            "Nd@@ ing@@ umzekelo om@@ hle ko@@ onyana bam abab@@ ini yaye nd@@ iye nd@@ af@@ anel@@ ekela amalung@@ elo ang@@ akumbi ebandleni .\n",
            "Nd@@ az@@ iwa njengom@@ ntu on@@ yanisekileyo ngabantu end@@ ish@@ ish@@ ina kunye nabo kwan@@ abahl@@ ol@@ i boku@@ m@@ a kwem@@ ali ye@@ enk@@ amp@@ ani ( t@@ a@@ x a@@ ud@@ it@@ ors ) . ”\n",
            "U@@ R@@ ute wa@@ f@@ ud@@ ukela kwa@@ Sirayeli apho way@@ eza ku@@ kwazi uku@@ nq@@ ula oy@@ ena Thixo w@@ okwenyaniso .\n",
            "Combined BPE Vocab\n",
            "!@@\n",
            "Ο@@\n",
            "ȁ@@\n",
            "¥\n",
            "Ù@@\n",
            "̆\n",
            "ģ@@\n",
            "ź@@\n",
            "Í\n",
            "õ\n"
          ],
          "name": "stdout"
        }
      ]
    },
    {
      "cell_type": "markdown",
      "metadata": {
        "colab_type": "text",
        "id": "Ixmzi60WsUZ8"
      },
      "source": [
        "# Creating the JoeyNMT Config\n",
        "\n",
        "JoeyNMT requires a yaml config. We provide a template below. We've also set a number of defaults with it, that you may play with!\n",
        "\n",
        "- We used Transformer architecture \n",
        "- We set our dropout to reasonably high: 0.3 (recommended in  [(Sennrich, 2019)](https://www.aclweb.org/anthology/P19-1021))\n",
        "\n",
        "Things worth playing with:\n",
        "- The batch size (also recommended to change for low-resourced languages)\n",
        "- The number of epochs (we've set it at 30 just so it runs in about an hour, for testing purposes)\n",
        "- The decoder options (beam_size, alpha)\n",
        "- Evaluation metrics (BLEU versus Crhf4)"
      ]
    },
    {
      "cell_type": "code",
      "metadata": {
        "id": "Wc47fvWqyxbd",
        "colab_type": "code",
        "colab": {}
      },
      "source": [
        "def get_last_checkpoint(directory):\n",
        "  last_checkpoint = ''\n",
        "  try:\n",
        "    for filename in os.listdir(directory):\n",
        "      if not 'best' in filename and filename.endswith(\".ckpt\"):\n",
        "          if not last_checkpoint or int(filename.split('.')[0]) > int(last_checkpoint.split('.')[0]):\n",
        "            last_checkpoint = filename\n",
        "  except FileNotFoundError as e:\n",
        "    print('Error Occur ', e)\n",
        "  return last_checkpoint"
      ],
      "execution_count": 0,
      "outputs": []
    },
    {
      "cell_type": "code",
      "metadata": {
        "id": "x_ffEoFdy1Qo",
        "colab_type": "code",
        "colab": {
          "base_uri": "https://localhost:8080/",
          "height": 68
        },
        "outputId": "ef4cd5ce-7304-4428-f512-849da3746a75"
      },
      "source": [
        "# Copy the created models from the temporary storage to main storage on google drive for persistant storage \n",
        "# the content of te folder will be overwrite when you start trainin\n",
        "!cp -r \"/content/drive/My Drive/masakhane/model-temp/\"* \"$gdrive_path/models/${src}${tgt}_transformer/\"\n",
        "last_checkpoint = get_last_checkpoint(models_path)\n",
        "print('Last checkpoint :',last_checkpoint)"
      ],
      "execution_count": 28,
      "outputs": [
        {
          "output_type": "stream",
          "text": [
            "cp: cannot stat '/content/drive/My Drive/masakhane/model-temp/*': No such file or directory\n",
            "Error Occur  [Errno 2] No such file or directory: '/content/drive/My Drive/masakhane/en-xh-baseline/models/enxh_transformer'\n",
            "Last checkpoint : \n"
          ],
          "name": "stdout"
        }
      ]
    },
    {
      "cell_type": "code",
      "metadata": {
        "colab_type": "code",
        "id": "PIs1lY2hxMsl",
        "colab": {}
      },
      "source": [
        "# This creates the config file for our JoeyNMT system. It might seem overwhelming so we've provided a couple of useful parameters you'll need to update\n",
        "# (You can of course play with all the parameters if you'd like!)\n",
        "\n",
        "name = '%s%s' % (source_language, target_language)\n",
        "gdrive_path = os.environ[\"gdrive_path\"]\n",
        "\n",
        "# Create the config\n",
        "config = \"\"\"\n",
        "name: \"{name}_transformer\"\n",
        "\n",
        "data:\n",
        "    src: \"{source_language}\"\n",
        "    trg: \"{target_language}\"\n",
        "    train: \"{gdrive_path}/train.bpe\"\n",
        "    dev:   \"{gdrive_path}/dev.bpe\"\n",
        "    test:  \"{gdrive_path}/test.bpe\"\n",
        "    level: \"bpe\"\n",
        "    lowercase: False\n",
        "    max_sent_length: 100\n",
        "    src_vocab: \"{gdrive_path}/vocab.txt\"\n",
        "    trg_vocab: \"{gdrive_path}/vocab.txt\"\n",
        "\n",
        "testing:\n",
        "    beam_size: 5\n",
        "    alpha: 1.0\n",
        "\n",
        "training:\n",
        "    #load_model: \"{gdrive_path}/models/{name}_transformer/{last_checkpoint}\" # uncommented to load a pre-trained model from last checkpoint\n",
        "    random_seed: 42\n",
        "    optimizer: \"adam\"\n",
        "    normalization: \"tokens\"\n",
        "    adam_betas: [0.9, 0.999] \n",
        "    scheduling: \"plateau\"           # TODO: try switching from plateau to Noam scheduling\n",
        "    patience: 5                     # For plateau: decrease learning rate by decrease_factor if validation score has not improved for this many validation rounds.\n",
        "    learning_rate_factor: 0.5       # factor for Noam scheduler (used with Transformer)\n",
        "    learning_rate_warmup: 1000      # warmup steps for Noam scheduler (used with Transformer)\n",
        "    decrease_factor: 0.7\n",
        "    loss: \"crossentropy\"\n",
        "    learning_rate: 0.0003\n",
        "    learning_rate_min: 0.00000001\n",
        "    weight_decay: 0.0\n",
        "    label_smoothing: 0.1\n",
        "    batch_size: 4096\n",
        "    batch_type: \"token\"\n",
        "    eval_batch_size: 3600\n",
        "    eval_batch_type: \"token\"\n",
        "    batch_multiplier: 1\n",
        "    early_stopping_metric: \"ppl\"\n",
        "    epochs: 30                     # TODO: Decrease for when playing around and checking of working. Around 30 is sufficient to check if its working at all\n",
        "    validation_freq: 1000          # TODO: Set to at least once per epoch.\n",
        "    logging_freq: 100\n",
        "    eval_metric: \"bleu\"\n",
        "    model_dir: \"{model_temp_dir}\"\n",
        "    overwrite: True               # TODO: Set to True if you want to overwrite possibly existing models. \n",
        "    shuffle: True\n",
        "    use_cuda: True\n",
        "    max_output_length: 100\n",
        "    print_valid_sents: [0, 1, 2, 3]\n",
        "    keep_last_ckpts: 3\n",
        "\n",
        "model:\n",
        "    initializer: \"xavier\"\n",
        "    bias_initializer: \"zeros\"\n",
        "    init_gain: 1.0\n",
        "    embed_initializer: \"xavier\"\n",
        "    embed_init_gain: 1.0\n",
        "    tied_embeddings: True\n",
        "    tied_softmax: True\n",
        "    encoder:\n",
        "        type: \"transformer\"\n",
        "        num_layers: 6\n",
        "        num_heads: 4             # TODO: Increase to 8 for larger data.\n",
        "        embeddings:\n",
        "            embedding_dim: 256   # TODO: Increase to 512 for larger data.\n",
        "            scale: True\n",
        "            dropout: 0.2\n",
        "        # typically ff_size = 4 x hidden_size\n",
        "        hidden_size: 256         # TODO: Increase to 512 for larger data.\n",
        "        ff_size: 1024            # TODO: Increase to 2048 for larger data.\n",
        "        dropout: 0.3\n",
        "    decoder:\n",
        "        type: \"transformer\"\n",
        "        num_layers: 6\n",
        "        num_heads: 4              # TODO: Increase to 8 for larger data.\n",
        "        embeddings:\n",
        "            embedding_dim: 256    # TODO: Increase to 512 for larger data.\n",
        "            scale: True\n",
        "            dropout: 0.2\n",
        "        # typically ff_size = 4 x hidden_size\n",
        "        hidden_size: 256         # TODO: Increase to 512 for larger data.\n",
        "        ff_size: 1024            # TODO: Increase to 2048 for larger data.\n",
        "        dropout: 0.3\n",
        "\"\"\".format(name=name, gdrive_path=os.environ[\"gdrive_path\"], source_language=source_language, target_language=target_language, model_temp_dir=model_temp_dir, last_checkpoint=last_checkpoint)\n",
        "with open(\"joeynmt/configs/transformer_{name}.yaml\".format(name=name),'w') as f:\n",
        "    f.write(config)"
      ],
      "execution_count": 0,
      "outputs": []
    },
    {
      "cell_type": "markdown",
      "metadata": {
        "colab_type": "text",
        "id": "pIifxE3Qzuvs"
      },
      "source": [
        "# Train the Model\n",
        "\n",
        "This single line of joeynmt runs the training using the config we made above"
      ]
    },
    {
      "cell_type": "code",
      "metadata": {
        "colab_type": "code",
        "id": "6ZBPFwT94WpI",
        "colab": {
          "base_uri": "https://localhost:8080/",
          "height": 1000
        },
        "outputId": "8f8e6a49-7997-4e0a-9371-000acf8add31"
      },
      "source": [
        "# Train the model\n",
        "# You can press Ctrl-C to stop. And then run the next cell to save your checkpoints! \n",
        "!cd joeynmt; python3 -m joeynmt train configs/transformer_$src$tgt.yaml"
      ],
      "execution_count": 0,
      "outputs": [
        {
          "output_type": "stream",
          "text": [
            "2020-01-31 18:29:28,118 Hello! This is Joey-NMT.\n",
            "2020-01-31 18:29:29,295 Total params: 12200448\n",
            "2020-01-31 18:29:29,296 Trainable parameters: ['decoder.layer_norm.bias', 'decoder.layer_norm.weight', 'decoder.layers.0.dec_layer_norm.bias', 'decoder.layers.0.dec_layer_norm.weight', 'decoder.layers.0.feed_forward.layer_norm.bias', 'decoder.layers.0.feed_forward.layer_norm.weight', 'decoder.layers.0.feed_forward.pwff_layer.0.bias', 'decoder.layers.0.feed_forward.pwff_layer.0.weight', 'decoder.layers.0.feed_forward.pwff_layer.3.bias', 'decoder.layers.0.feed_forward.pwff_layer.3.weight', 'decoder.layers.0.src_trg_att.k_layer.bias', 'decoder.layers.0.src_trg_att.k_layer.weight', 'decoder.layers.0.src_trg_att.output_layer.bias', 'decoder.layers.0.src_trg_att.output_layer.weight', 'decoder.layers.0.src_trg_att.q_layer.bias', 'decoder.layers.0.src_trg_att.q_layer.weight', 'decoder.layers.0.src_trg_att.v_layer.bias', 'decoder.layers.0.src_trg_att.v_layer.weight', 'decoder.layers.0.trg_trg_att.k_layer.bias', 'decoder.layers.0.trg_trg_att.k_layer.weight', 'decoder.layers.0.trg_trg_att.output_layer.bias', 'decoder.layers.0.trg_trg_att.output_layer.weight', 'decoder.layers.0.trg_trg_att.q_layer.bias', 'decoder.layers.0.trg_trg_att.q_layer.weight', 'decoder.layers.0.trg_trg_att.v_layer.bias', 'decoder.layers.0.trg_trg_att.v_layer.weight', 'decoder.layers.0.x_layer_norm.bias', 'decoder.layers.0.x_layer_norm.weight', 'decoder.layers.1.dec_layer_norm.bias', 'decoder.layers.1.dec_layer_norm.weight', 'decoder.layers.1.feed_forward.layer_norm.bias', 'decoder.layers.1.feed_forward.layer_norm.weight', 'decoder.layers.1.feed_forward.pwff_layer.0.bias', 'decoder.layers.1.feed_forward.pwff_layer.0.weight', 'decoder.layers.1.feed_forward.pwff_layer.3.bias', 'decoder.layers.1.feed_forward.pwff_layer.3.weight', 'decoder.layers.1.src_trg_att.k_layer.bias', 'decoder.layers.1.src_trg_att.k_layer.weight', 'decoder.layers.1.src_trg_att.output_layer.bias', 'decoder.layers.1.src_trg_att.output_layer.weight', 'decoder.layers.1.src_trg_att.q_layer.bias', 'decoder.layers.1.src_trg_att.q_layer.weight', 'decoder.layers.1.src_trg_att.v_layer.bias', 'decoder.layers.1.src_trg_att.v_layer.weight', 'decoder.layers.1.trg_trg_att.k_layer.bias', 'decoder.layers.1.trg_trg_att.k_layer.weight', 'decoder.layers.1.trg_trg_att.output_layer.bias', 'decoder.layers.1.trg_trg_att.output_layer.weight', 'decoder.layers.1.trg_trg_att.q_layer.bias', 'decoder.layers.1.trg_trg_att.q_layer.weight', 'decoder.layers.1.trg_trg_att.v_layer.bias', 'decoder.layers.1.trg_trg_att.v_layer.weight', 'decoder.layers.1.x_layer_norm.bias', 'decoder.layers.1.x_layer_norm.weight', 'decoder.layers.2.dec_layer_norm.bias', 'decoder.layers.2.dec_layer_norm.weight', 'decoder.layers.2.feed_forward.layer_norm.bias', 'decoder.layers.2.feed_forward.layer_norm.weight', 'decoder.layers.2.feed_forward.pwff_layer.0.bias', 'decoder.layers.2.feed_forward.pwff_layer.0.weight', 'decoder.layers.2.feed_forward.pwff_layer.3.bias', 'decoder.layers.2.feed_forward.pwff_layer.3.weight', 'decoder.layers.2.src_trg_att.k_layer.bias', 'decoder.layers.2.src_trg_att.k_layer.weight', 'decoder.layers.2.src_trg_att.output_layer.bias', 'decoder.layers.2.src_trg_att.output_layer.weight', 'decoder.layers.2.src_trg_att.q_layer.bias', 'decoder.layers.2.src_trg_att.q_layer.weight', 'decoder.layers.2.src_trg_att.v_layer.bias', 'decoder.layers.2.src_trg_att.v_layer.weight', 'decoder.layers.2.trg_trg_att.k_layer.bias', 'decoder.layers.2.trg_trg_att.k_layer.weight', 'decoder.layers.2.trg_trg_att.output_layer.bias', 'decoder.layers.2.trg_trg_att.output_layer.weight', 'decoder.layers.2.trg_trg_att.q_layer.bias', 'decoder.layers.2.trg_trg_att.q_layer.weight', 'decoder.layers.2.trg_trg_att.v_layer.bias', 'decoder.layers.2.trg_trg_att.v_layer.weight', 'decoder.layers.2.x_layer_norm.bias', 'decoder.layers.2.x_layer_norm.weight', 'decoder.layers.3.dec_layer_norm.bias', 'decoder.layers.3.dec_layer_norm.weight', 'decoder.layers.3.feed_forward.layer_norm.bias', 'decoder.layers.3.feed_forward.layer_norm.weight', 'decoder.layers.3.feed_forward.pwff_layer.0.bias', 'decoder.layers.3.feed_forward.pwff_layer.0.weight', 'decoder.layers.3.feed_forward.pwff_layer.3.bias', 'decoder.layers.3.feed_forward.pwff_layer.3.weight', 'decoder.layers.3.src_trg_att.k_layer.bias', 'decoder.layers.3.src_trg_att.k_layer.weight', 'decoder.layers.3.src_trg_att.output_layer.bias', 'decoder.layers.3.src_trg_att.output_layer.weight', 'decoder.layers.3.src_trg_att.q_layer.bias', 'decoder.layers.3.src_trg_att.q_layer.weight', 'decoder.layers.3.src_trg_att.v_layer.bias', 'decoder.layers.3.src_trg_att.v_layer.weight', 'decoder.layers.3.trg_trg_att.k_layer.bias', 'decoder.layers.3.trg_trg_att.k_layer.weight', 'decoder.layers.3.trg_trg_att.output_layer.bias', 'decoder.layers.3.trg_trg_att.output_layer.weight', 'decoder.layers.3.trg_trg_att.q_layer.bias', 'decoder.layers.3.trg_trg_att.q_layer.weight', 'decoder.layers.3.trg_trg_att.v_layer.bias', 'decoder.layers.3.trg_trg_att.v_layer.weight', 'decoder.layers.3.x_layer_norm.bias', 'decoder.layers.3.x_layer_norm.weight', 'decoder.layers.4.dec_layer_norm.bias', 'decoder.layers.4.dec_layer_norm.weight', 'decoder.layers.4.feed_forward.layer_norm.bias', 'decoder.layers.4.feed_forward.layer_norm.weight', 'decoder.layers.4.feed_forward.pwff_layer.0.bias', 'decoder.layers.4.feed_forward.pwff_layer.0.weight', 'decoder.layers.4.feed_forward.pwff_layer.3.bias', 'decoder.layers.4.feed_forward.pwff_layer.3.weight', 'decoder.layers.4.src_trg_att.k_layer.bias', 'decoder.layers.4.src_trg_att.k_layer.weight', 'decoder.layers.4.src_trg_att.output_layer.bias', 'decoder.layers.4.src_trg_att.output_layer.weight', 'decoder.layers.4.src_trg_att.q_layer.bias', 'decoder.layers.4.src_trg_att.q_layer.weight', 'decoder.layers.4.src_trg_att.v_layer.bias', 'decoder.layers.4.src_trg_att.v_layer.weight', 'decoder.layers.4.trg_trg_att.k_layer.bias', 'decoder.layers.4.trg_trg_att.k_layer.weight', 'decoder.layers.4.trg_trg_att.output_layer.bias', 'decoder.layers.4.trg_trg_att.output_layer.weight', 'decoder.layers.4.trg_trg_att.q_layer.bias', 'decoder.layers.4.trg_trg_att.q_layer.weight', 'decoder.layers.4.trg_trg_att.v_layer.bias', 'decoder.layers.4.trg_trg_att.v_layer.weight', 'decoder.layers.4.x_layer_norm.bias', 'decoder.layers.4.x_layer_norm.weight', 'decoder.layers.5.dec_layer_norm.bias', 'decoder.layers.5.dec_layer_norm.weight', 'decoder.layers.5.feed_forward.layer_norm.bias', 'decoder.layers.5.feed_forward.layer_norm.weight', 'decoder.layers.5.feed_forward.pwff_layer.0.bias', 'decoder.layers.5.feed_forward.pwff_layer.0.weight', 'decoder.layers.5.feed_forward.pwff_layer.3.bias', 'decoder.layers.5.feed_forward.pwff_layer.3.weight', 'decoder.layers.5.src_trg_att.k_layer.bias', 'decoder.layers.5.src_trg_att.k_layer.weight', 'decoder.layers.5.src_trg_att.output_layer.bias', 'decoder.layers.5.src_trg_att.output_layer.weight', 'decoder.layers.5.src_trg_att.q_layer.bias', 'decoder.layers.5.src_trg_att.q_layer.weight', 'decoder.layers.5.src_trg_att.v_layer.bias', 'decoder.layers.5.src_trg_att.v_layer.weight', 'decoder.layers.5.trg_trg_att.k_layer.bias', 'decoder.layers.5.trg_trg_att.k_layer.weight', 'decoder.layers.5.trg_trg_att.output_layer.bias', 'decoder.layers.5.trg_trg_att.output_layer.weight', 'decoder.layers.5.trg_trg_att.q_layer.bias', 'decoder.layers.5.trg_trg_att.q_layer.weight', 'decoder.layers.5.trg_trg_att.v_layer.bias', 'decoder.layers.5.trg_trg_att.v_layer.weight', 'decoder.layers.5.x_layer_norm.bias', 'decoder.layers.5.x_layer_norm.weight', 'encoder.layer_norm.bias', 'encoder.layer_norm.weight', 'encoder.layers.0.feed_forward.layer_norm.bias', 'encoder.layers.0.feed_forward.layer_norm.weight', 'encoder.layers.0.feed_forward.pwff_layer.0.bias', 'encoder.layers.0.feed_forward.pwff_layer.0.weight', 'encoder.layers.0.feed_forward.pwff_layer.3.bias', 'encoder.layers.0.feed_forward.pwff_layer.3.weight', 'encoder.layers.0.layer_norm.bias', 'encoder.layers.0.layer_norm.weight', 'encoder.layers.0.src_src_att.k_layer.bias', 'encoder.layers.0.src_src_att.k_layer.weight', 'encoder.layers.0.src_src_att.output_layer.bias', 'encoder.layers.0.src_src_att.output_layer.weight', 'encoder.layers.0.src_src_att.q_layer.bias', 'encoder.layers.0.src_src_att.q_layer.weight', 'encoder.layers.0.src_src_att.v_layer.bias', 'encoder.layers.0.src_src_att.v_layer.weight', 'encoder.layers.1.feed_forward.layer_norm.bias', 'encoder.layers.1.feed_forward.layer_norm.weight', 'encoder.layers.1.feed_forward.pwff_layer.0.bias', 'encoder.layers.1.feed_forward.pwff_layer.0.weight', 'encoder.layers.1.feed_forward.pwff_layer.3.bias', 'encoder.layers.1.feed_forward.pwff_layer.3.weight', 'encoder.layers.1.layer_norm.bias', 'encoder.layers.1.layer_norm.weight', 'encoder.layers.1.src_src_att.k_layer.bias', 'encoder.layers.1.src_src_att.k_layer.weight', 'encoder.layers.1.src_src_att.output_layer.bias', 'encoder.layers.1.src_src_att.output_layer.weight', 'encoder.layers.1.src_src_att.q_layer.bias', 'encoder.layers.1.src_src_att.q_layer.weight', 'encoder.layers.1.src_src_att.v_layer.bias', 'encoder.layers.1.src_src_att.v_layer.weight', 'encoder.layers.2.feed_forward.layer_norm.bias', 'encoder.layers.2.feed_forward.layer_norm.weight', 'encoder.layers.2.feed_forward.pwff_layer.0.bias', 'encoder.layers.2.feed_forward.pwff_layer.0.weight', 'encoder.layers.2.feed_forward.pwff_layer.3.bias', 'encoder.layers.2.feed_forward.pwff_layer.3.weight', 'encoder.layers.2.layer_norm.bias', 'encoder.layers.2.layer_norm.weight', 'encoder.layers.2.src_src_att.k_layer.bias', 'encoder.layers.2.src_src_att.k_layer.weight', 'encoder.layers.2.src_src_att.output_layer.bias', 'encoder.layers.2.src_src_att.output_layer.weight', 'encoder.layers.2.src_src_att.q_layer.bias', 'encoder.layers.2.src_src_att.q_layer.weight', 'encoder.layers.2.src_src_att.v_layer.bias', 'encoder.layers.2.src_src_att.v_layer.weight', 'encoder.layers.3.feed_forward.layer_norm.bias', 'encoder.layers.3.feed_forward.layer_norm.weight', 'encoder.layers.3.feed_forward.pwff_layer.0.bias', 'encoder.layers.3.feed_forward.pwff_layer.0.weight', 'encoder.layers.3.feed_forward.pwff_layer.3.bias', 'encoder.layers.3.feed_forward.pwff_layer.3.weight', 'encoder.layers.3.layer_norm.bias', 'encoder.layers.3.layer_norm.weight', 'encoder.layers.3.src_src_att.k_layer.bias', 'encoder.layers.3.src_src_att.k_layer.weight', 'encoder.layers.3.src_src_att.output_layer.bias', 'encoder.layers.3.src_src_att.output_layer.weight', 'encoder.layers.3.src_src_att.q_layer.bias', 'encoder.layers.3.src_src_att.q_layer.weight', 'encoder.layers.3.src_src_att.v_layer.bias', 'encoder.layers.3.src_src_att.v_layer.weight', 'encoder.layers.4.feed_forward.layer_norm.bias', 'encoder.layers.4.feed_forward.layer_norm.weight', 'encoder.layers.4.feed_forward.pwff_layer.0.bias', 'encoder.layers.4.feed_forward.pwff_layer.0.weight', 'encoder.layers.4.feed_forward.pwff_layer.3.bias', 'encoder.layers.4.feed_forward.pwff_layer.3.weight', 'encoder.layers.4.layer_norm.bias', 'encoder.layers.4.layer_norm.weight', 'encoder.layers.4.src_src_att.k_layer.bias', 'encoder.layers.4.src_src_att.k_layer.weight', 'encoder.layers.4.src_src_att.output_layer.bias', 'encoder.layers.4.src_src_att.output_layer.weight', 'encoder.layers.4.src_src_att.q_layer.bias', 'encoder.layers.4.src_src_att.q_layer.weight', 'encoder.layers.4.src_src_att.v_layer.bias', 'encoder.layers.4.src_src_att.v_layer.weight', 'encoder.layers.5.feed_forward.layer_norm.bias', 'encoder.layers.5.feed_forward.layer_norm.weight', 'encoder.layers.5.feed_forward.pwff_layer.0.bias', 'encoder.layers.5.feed_forward.pwff_layer.0.weight', 'encoder.layers.5.feed_forward.pwff_layer.3.bias', 'encoder.layers.5.feed_forward.pwff_layer.3.weight', 'encoder.layers.5.layer_norm.bias', 'encoder.layers.5.layer_norm.weight', 'encoder.layers.5.src_src_att.k_layer.bias', 'encoder.layers.5.src_src_att.k_layer.weight', 'encoder.layers.5.src_src_att.output_layer.bias', 'encoder.layers.5.src_src_att.output_layer.weight', 'encoder.layers.5.src_src_att.q_layer.bias', 'encoder.layers.5.src_src_att.q_layer.weight', 'encoder.layers.5.src_src_att.v_layer.bias', 'encoder.layers.5.src_src_att.v_layer.weight', 'src_embed.lut.weight']\n",
            "2020-01-31 18:29:39,430 cfg.name                           : enxh_transformer\n",
            "2020-01-31 18:29:39,431 cfg.data.src                       : en\n",
            "2020-01-31 18:29:39,431 cfg.data.trg                       : xh\n",
            "2020-01-31 18:29:39,431 cfg.data.train                     : /content/drive/My Drive/masakhane/en-xh-baseline/train.bpe\n",
            "2020-01-31 18:29:39,431 cfg.data.dev                       : /content/drive/My Drive/masakhane/en-xh-baseline/dev.bpe\n",
            "2020-01-31 18:29:39,431 cfg.data.test                      : /content/drive/My Drive/masakhane/en-xh-baseline/test.bpe\n",
            "2020-01-31 18:29:39,432 cfg.data.level                     : bpe\n",
            "2020-01-31 18:29:39,432 cfg.data.lowercase                 : False\n",
            "2020-01-31 18:29:39,432 cfg.data.max_sent_length           : 100\n",
            "2020-01-31 18:29:39,432 cfg.data.src_vocab                 : /content/drive/My Drive/masakhane/en-xh-baseline/vocab.txt\n",
            "2020-01-31 18:29:39,432 cfg.data.trg_vocab                 : /content/drive/My Drive/masakhane/en-xh-baseline/vocab.txt\n",
            "2020-01-31 18:29:39,432 cfg.testing.beam_size              : 5\n",
            "2020-01-31 18:29:39,432 cfg.testing.alpha                  : 1.0\n",
            "2020-01-31 18:29:39,433 cfg.training.random_seed           : 42\n",
            "2020-01-31 18:29:39,433 cfg.training.optimizer             : adam\n",
            "2020-01-31 18:29:39,433 cfg.training.normalization         : tokens\n",
            "2020-01-31 18:29:39,433 cfg.training.adam_betas            : [0.9, 0.999]\n",
            "2020-01-31 18:29:39,433 cfg.training.scheduling            : plateau\n",
            "2020-01-31 18:29:39,433 cfg.training.patience              : 5\n",
            "2020-01-31 18:29:39,434 cfg.training.learning_rate_factor  : 0.5\n",
            "2020-01-31 18:29:39,434 cfg.training.learning_rate_warmup  : 1000\n",
            "2020-01-31 18:29:39,434 cfg.training.decrease_factor       : 0.7\n",
            "2020-01-31 18:29:39,434 cfg.training.loss                  : crossentropy\n",
            "2020-01-31 18:29:39,434 cfg.training.learning_rate         : 0.0003\n",
            "2020-01-31 18:29:39,434 cfg.training.learning_rate_min     : 1e-08\n",
            "2020-01-31 18:29:39,434 cfg.training.weight_decay          : 0.0\n",
            "2020-01-31 18:29:39,435 cfg.training.label_smoothing       : 0.1\n",
            "2020-01-31 18:29:39,435 cfg.training.batch_size            : 4096\n",
            "2020-01-31 18:29:39,435 cfg.training.batch_type            : token\n",
            "2020-01-31 18:29:39,435 cfg.training.eval_batch_size       : 3600\n",
            "2020-01-31 18:29:39,435 cfg.training.eval_batch_type       : token\n",
            "2020-01-31 18:29:39,435 cfg.training.batch_multiplier      : 1\n",
            "2020-01-31 18:29:39,435 cfg.training.early_stopping_metric : ppl\n",
            "2020-01-31 18:29:39,436 cfg.training.epochs                : 30\n",
            "2020-01-31 18:29:39,436 cfg.training.validation_freq       : 1000\n",
            "2020-01-31 18:29:39,436 cfg.training.logging_freq          : 100\n",
            "2020-01-31 18:29:39,436 cfg.training.eval_metric           : bleu\n",
            "2020-01-31 18:29:39,436 cfg.training.model_dir             : /content/drive/My Drive/masakhane/model-temp\n",
            "2020-01-31 18:29:39,436 cfg.training.overwrite             : True\n",
            "2020-01-31 18:29:39,437 cfg.training.shuffle               : True\n",
            "2020-01-31 18:29:39,437 cfg.training.use_cuda              : True\n",
            "2020-01-31 18:29:39,437 cfg.training.max_output_length     : 100\n",
            "2020-01-31 18:29:39,437 cfg.training.print_valid_sents     : [0, 1, 2, 3]\n",
            "2020-01-31 18:29:39,437 cfg.training.keep_last_ckpts       : 3\n",
            "2020-01-31 18:29:39,437 cfg.model.initializer              : xavier\n",
            "2020-01-31 18:29:39,437 cfg.model.bias_initializer         : zeros\n",
            "2020-01-31 18:29:39,438 cfg.model.init_gain                : 1.0\n",
            "2020-01-31 18:29:39,438 cfg.model.embed_initializer        : xavier\n",
            "2020-01-31 18:29:39,438 cfg.model.embed_init_gain          : 1.0\n",
            "2020-01-31 18:29:39,438 cfg.model.tied_embeddings          : True\n",
            "2020-01-31 18:29:39,438 cfg.model.tied_softmax             : True\n",
            "2020-01-31 18:29:39,438 cfg.model.encoder.type             : transformer\n",
            "2020-01-31 18:29:39,439 cfg.model.encoder.num_layers       : 6\n",
            "2020-01-31 18:29:39,439 cfg.model.encoder.num_heads        : 4\n",
            "2020-01-31 18:29:39,439 cfg.model.encoder.embeddings.embedding_dim : 256\n",
            "2020-01-31 18:29:39,439 cfg.model.encoder.embeddings.scale : True\n",
            "2020-01-31 18:29:39,439 cfg.model.encoder.embeddings.dropout : 0.2\n",
            "2020-01-31 18:29:39,439 cfg.model.encoder.hidden_size      : 256\n",
            "2020-01-31 18:29:39,439 cfg.model.encoder.ff_size          : 1024\n",
            "2020-01-31 18:29:39,440 cfg.model.encoder.dropout          : 0.3\n",
            "2020-01-31 18:29:39,440 cfg.model.decoder.type             : transformer\n",
            "2020-01-31 18:29:39,440 cfg.model.decoder.num_layers       : 6\n",
            "2020-01-31 18:29:39,440 cfg.model.decoder.num_heads        : 4\n",
            "2020-01-31 18:29:39,440 cfg.model.decoder.embeddings.embedding_dim : 256\n",
            "2020-01-31 18:29:39,440 cfg.model.decoder.embeddings.scale : True\n",
            "2020-01-31 18:29:39,441 cfg.model.decoder.embeddings.dropout : 0.2\n",
            "2020-01-31 18:29:39,441 cfg.model.decoder.hidden_size      : 256\n",
            "2020-01-31 18:29:39,441 cfg.model.decoder.ff_size          : 1024\n",
            "2020-01-31 18:29:39,441 cfg.model.decoder.dropout          : 0.3\n",
            "2020-01-31 18:29:39,441 Data set sizes: \n",
            "\ttrain 786371,\n",
            "\tvalid 1000,\n",
            "\ttest 2711\n",
            "2020-01-31 18:29:39,441 First training example:\n",
            "\t[SRC] Not long after my bap@@ t@@ ism , I married one of Jehovah’s Witnesses .\n",
            "\t[TRG] Kung@@ ekudala nd@@ ib@@ hap@@ ti@@ zi@@ we , nd@@ atshat@@ a omnye wama@@ Ngqina kaYehova .\n",
            "2020-01-31 18:29:39,442 First 10 words (src): (0) <unk> (1) <pad> (2) <s> (3) </s> (4) . (5) , (6) the (7) to (8) of (9) a\n",
            "2020-01-31 18:29:39,442 First 10 words (trg): (0) <unk> (1) <pad> (2) <s> (3) </s> (4) . (5) , (6) the (7) to (8) of (9) a\n",
            "2020-01-31 18:29:39,442 Number of Src words (types): 4454\n",
            "2020-01-31 18:29:39,443 Number of Trg words (types): 4454\n",
            "2020-01-31 18:29:39,443 Model(\n",
            "\tencoder=TransformerEncoder(num_layers=6, num_heads=4),\n",
            "\tdecoder=TransformerDecoder(num_layers=6, num_heads=4),\n",
            "\tsrc_embed=Embeddings(embedding_dim=256, vocab_size=4454),\n",
            "\ttrg_embed=Embeddings(embedding_dim=256, vocab_size=4454))\n",
            "2020-01-31 18:29:39,491 EPOCH 1\n",
            "2020-01-31 18:29:56,146 Epoch   1 Step:      100 Batch Loss:     5.903441 Tokens per Sec:    15574, Lr: 0.000300\n",
            "2020-01-31 18:30:11,313 Epoch   1 Step:      200 Batch Loss:     5.949011 Tokens per Sec:    16335, Lr: 0.000300\n",
            "2020-01-31 18:30:26,869 Epoch   1 Step:      300 Batch Loss:     5.827965 Tokens per Sec:    16164, Lr: 0.000300\n",
            "2020-01-31 18:30:42,679 Epoch   1 Step:      400 Batch Loss:     5.656576 Tokens per Sec:    16112, Lr: 0.000300\n"
          ],
          "name": "stdout"
        }
      ]
    },
    {
      "cell_type": "code",
      "metadata": {
        "colab_type": "code",
        "id": "MBoDS09JM807",
        "colab": {
          "base_uri": "https://localhost:8080/",
          "height": 34
        },
        "outputId": "29953b00-f205-4b15-c1a9-33a57962dab3"
      },
      "source": [
        "# Copy the created models from the notebook storage to google drive for persistant storage \n",
        "!cp -r joeynmt/models/${src}${tgt}_transformer/* \"$gdrive_path/models/${src}${tgt}_transformer/\""
      ],
      "execution_count": 22,
      "outputs": [
        {
          "output_type": "stream",
          "text": [
            "cp: cannot stat 'joeynmt/models/enxh_transformer/*': No such file or directory\n"
          ],
          "name": "stdout"
        }
      ]
    },
    {
      "cell_type": "code",
      "metadata": {
        "colab_type": "code",
        "id": "n94wlrCjVc17",
        "colab": {
          "base_uri": "https://localhost:8080/",
          "height": 34
        },
        "outputId": "421692f6-e1b6-439b-8073-743995b9338d"
      },
      "source": [
        "# Output our validation accuracy\n",
        "! cat \"$gdrive_path/models/${src}${tgt}_transformer/validations.txt\""
      ],
      "execution_count": 23,
      "outputs": [
        {
          "output_type": "stream",
          "text": [
            "cat: '/content/drive/My Drive/masakhane/en-xh-baseline/models/enxh_transformer/validations.txt': No such file or directory\n"
          ],
          "name": "stdout"
        }
      ]
    },
    {
      "cell_type": "code",
      "metadata": {
        "colab_type": "code",
        "id": "66WhRE9lIhoD",
        "colab": {
          "base_uri": "https://localhost:8080/",
          "height": 272
        },
        "outputId": "0490eb74-f03d-44ff-8bcb-94b508ae4fd8"
      },
      "source": [
        "# Test our model\n",
        "! cd joeynmt; python3 -m joeynmt test \"$gdrive_path/models/${src}${tgt}_transformer/config.yaml\""
      ],
      "execution_count": 24,
      "outputs": [
        {
          "output_type": "stream",
          "text": [
            "2020-01-31 18:12:49,600 Hello! This is Joey-NMT.\n",
            "Traceback (most recent call last):\n",
            "  File \"/usr/lib/python3.6/runpy.py\", line 193, in _run_module_as_main\n",
            "    \"__main__\", mod_spec)\n",
            "  File \"/usr/lib/python3.6/runpy.py\", line 85, in _run_code\n",
            "    exec(code, run_globals)\n",
            "  File \"/content/joeynmt/joeynmt/__main__.py\", line 41, in <module>\n",
            "    main()\n",
            "  File \"/content/joeynmt/joeynmt/__main__.py\", line 32, in main\n",
            "    output_path=args.output_path, save_attention=args.save_attention)\n",
            "  File \"/content/joeynmt/joeynmt/prediction.py\", line 187, in test\n",
            "    cfg = load_config(cfg_file)\n",
            "  File \"/content/joeynmt/joeynmt/helpers.py\", line 164, in load_config\n",
            "    with open(path, 'r') as ymlfile:\n",
            "FileNotFoundError: [Errno 2] No such file or directory: '/content/drive/My Drive/masakhane/en-xh-baseline/models/enxh_transformer/config.yaml'\n"
          ],
          "name": "stdout"
        }
      ]
    },
    {
      "cell_type": "code",
      "metadata": {
        "id": "KaXDFfm-zgjK",
        "colab_type": "code",
        "colab": {}
      },
      "source": [
        ""
      ],
      "execution_count": 0,
      "outputs": []
    }
  ]
}